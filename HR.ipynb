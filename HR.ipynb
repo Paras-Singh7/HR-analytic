{
 "cells": [
  {
   "cell_type": "markdown",
   "metadata": {},
   "source": [
    "# HR Analytics"
   ]
  },
  {
   "cell_type": "markdown",
   "metadata": {},
   "source": [
    "#### Importing data set"
   ]
  },
  {
   "cell_type": "code",
   "execution_count": 1,
   "metadata": {},
   "outputs": [],
   "source": [
    "train <- read.csv(\"train.csv\")\n",
    "test <- read.csv(\"test.csv\")"
   ]
  },
  {
   "cell_type": "markdown",
   "metadata": {},
   "source": [
    "#### Exploring data set"
   ]
  },
  {
   "cell_type": "code",
   "execution_count": 2,
   "metadata": {},
   "outputs": [
    {
     "data": {
      "text/html": [
       "<table>\n",
       "<thead><tr><th scope=col>employee_id</th><th scope=col>department</th><th scope=col>region</th><th scope=col>education</th><th scope=col>gender</th><th scope=col>recruitment_channel</th><th scope=col>no_of_trainings</th><th scope=col>age</th><th scope=col>previous_year_rating</th><th scope=col>length_of_service</th><th scope=col>KPIs_met..80.</th><th scope=col>awards_won.</th><th scope=col>avg_training_score</th><th scope=col>is_promoted</th></tr></thead>\n",
       "<tbody>\n",
       "\t<tr><td>65438                </td><td>Sales &amp; Marketing</td><td>region_7             </td><td>Master's &amp; above </td><td>f                    </td><td>sourcing             </td><td>1                    </td><td>35                   </td><td>5                    </td><td> 8                   </td><td>1                    </td><td>0                    </td><td>49                   </td><td>0                    </td></tr>\n",
       "\t<tr><td>65141            </td><td>Operations       </td><td>region_22        </td><td>Bachelor's       </td><td>m                </td><td>other            </td><td>1                </td><td>30               </td><td>5                </td><td> 4               </td><td>0                </td><td>0                </td><td>60               </td><td>0                </td></tr>\n",
       "\t<tr><td> 7513                                                   </td><td>Sales &amp; Marketing                                   </td><td>region_19                                               </td><td><span style=white-space:pre-wrap>Bachelor's      </span></td><td>m                                                       </td><td>sourcing                                                </td><td>1                                                       </td><td>34                                                      </td><td>3                                                       </td><td> 7                                                      </td><td>0                                                       </td><td>0                                                       </td><td>50                                                      </td><td>0                                                       </td></tr>\n",
       "\t<tr><td> 2542                                                   </td><td>Sales &amp; Marketing                                   </td><td>region_23                                               </td><td><span style=white-space:pre-wrap>Bachelor's      </span></td><td>m                                                       </td><td><span style=white-space:pre-wrap>other   </span>        </td><td>2                                                       </td><td>39                                                      </td><td>1                                                       </td><td>10                                                      </td><td>0                                                       </td><td>0                                                       </td><td>50                                                      </td><td>0                                                       </td></tr>\n",
       "\t<tr><td>48945            </td><td>Technology       </td><td>region_26        </td><td>Bachelor's       </td><td>m                </td><td>other            </td><td>1                </td><td>45               </td><td>3                </td><td> 2               </td><td>0                </td><td>0                </td><td>73               </td><td>0                </td></tr>\n",
       "\t<tr><td>58896            </td><td>Analytics        </td><td>region_2         </td><td>Bachelor's       </td><td>m                </td><td>sourcing         </td><td>2                </td><td>31               </td><td>3                </td><td> 7               </td><td>0                </td><td>0                </td><td>85               </td><td>0                </td></tr>\n",
       "</tbody>\n",
       "</table>\n"
      ],
      "text/latex": [
       "\\begin{tabular}{r|llllllllllllll}\n",
       " employee\\_id & department & region & education & gender & recruitment\\_channel & no\\_of\\_trainings & age & previous\\_year\\_rating & length\\_of\\_service & KPIs\\_met..80. & awards\\_won. & avg\\_training\\_score & is\\_promoted\\\\\n",
       "\\hline\n",
       "\t 65438               & Sales \\& Marketing & region\\_7          & Master's \\& above  & f                   & sourcing            & 1                   & 35                  & 5                   &  8                  & 1                   & 0                   & 49                  & 0                  \\\\\n",
       "\t 65141             & Operations        & region\\_22       & Bachelor's        & m                 & other             & 1                 & 30                & 5                 &  4                & 0                 & 0                 & 60                & 0                \\\\\n",
       "\t  7513               & Sales \\& Marketing & region\\_19         & Bachelor's          & m                   & sourcing            & 1                   & 34                  & 3                   &  7                  & 0                   & 0                   & 50                  & 0                  \\\\\n",
       "\t  2542               & Sales \\& Marketing & region\\_23         & Bachelor's          & m                   & other               & 2                   & 39                  & 1                   & 10                  & 0                   & 0                   & 50                  & 0                  \\\\\n",
       "\t 48945             & Technology        & region\\_26       & Bachelor's        & m                 & other             & 1                 & 45                & 3                 &  2                & 0                 & 0                 & 73                & 0                \\\\\n",
       "\t 58896             & Analytics         & region\\_2        & Bachelor's        & m                 & sourcing          & 2                 & 31                & 3                 &  7                & 0                 & 0                 & 85                & 0                \\\\\n",
       "\\end{tabular}\n"
      ],
      "text/markdown": [
       "\n",
       "| employee_id | department | region | education | gender | recruitment_channel | no_of_trainings | age | previous_year_rating | length_of_service | KPIs_met..80. | awards_won. | avg_training_score | is_promoted |\n",
       "|---|---|---|---|---|---|---|---|---|---|---|---|---|---|\n",
       "| 65438             | Sales & Marketing | region_7          | Master's & above  | f                 | sourcing          | 1                 | 35                | 5                 |  8                | 1                 | 0                 | 49                | 0                 |\n",
       "| 65141             | Operations        | region_22         | Bachelor's        | m                 | other             | 1                 | 30                | 5                 |  4                | 0                 | 0                 | 60                | 0                 |\n",
       "|  7513             | Sales & Marketing | region_19         | Bachelor's        | m                 | sourcing          | 1                 | 34                | 3                 |  7                | 0                 | 0                 | 50                | 0                 |\n",
       "|  2542             | Sales & Marketing | region_23         | Bachelor's        | m                 | other             | 2                 | 39                | 1                 | 10                | 0                 | 0                 | 50                | 0                 |\n",
       "| 48945             | Technology        | region_26         | Bachelor's        | m                 | other             | 1                 | 45                | 3                 |  2                | 0                 | 0                 | 73                | 0                 |\n",
       "| 58896             | Analytics         | region_2          | Bachelor's        | m                 | sourcing          | 2                 | 31                | 3                 |  7                | 0                 | 0                 | 85                | 0                 |\n",
       "\n"
      ],
      "text/plain": [
       "  employee_id department        region    education        gender\n",
       "1 65438       Sales & Marketing region_7  Master's & above f     \n",
       "2 65141       Operations        region_22 Bachelor's       m     \n",
       "3  7513       Sales & Marketing region_19 Bachelor's       m     \n",
       "4  2542       Sales & Marketing region_23 Bachelor's       m     \n",
       "5 48945       Technology        region_26 Bachelor's       m     \n",
       "6 58896       Analytics         region_2  Bachelor's       m     \n",
       "  recruitment_channel no_of_trainings age previous_year_rating\n",
       "1 sourcing            1               35  5                   \n",
       "2 other               1               30  5                   \n",
       "3 sourcing            1               34  3                   \n",
       "4 other               2               39  1                   \n",
       "5 other               1               45  3                   \n",
       "6 sourcing            2               31  3                   \n",
       "  length_of_service KPIs_met..80. awards_won. avg_training_score is_promoted\n",
       "1  8                1             0           49                 0          \n",
       "2  4                0             0           60                 0          \n",
       "3  7                0             0           50                 0          \n",
       "4 10                0             0           50                 0          \n",
       "5  2                0             0           73                 0          \n",
       "6  7                0             0           85                 0          "
      ]
     },
     "metadata": {},
     "output_type": "display_data"
    },
    {
     "data": {
      "text/html": [
       "<table>\n",
       "<thead><tr><th scope=col>employee_id</th><th scope=col>department</th><th scope=col>region</th><th scope=col>education</th><th scope=col>gender</th><th scope=col>recruitment_channel</th><th scope=col>no_of_trainings</th><th scope=col>age</th><th scope=col>previous_year_rating</th><th scope=col>length_of_service</th><th scope=col>KPIs_met..80.</th><th scope=col>awards_won.</th><th scope=col>avg_training_score</th></tr></thead>\n",
       "<tbody>\n",
       "\t<tr><td> 8724            </td><td>Technology       </td><td>region_26        </td><td>Bachelor's       </td><td>m                </td><td>sourcing         </td><td>1                </td><td>24               </td><td>NA               </td><td>1                </td><td>1                </td><td>0                </td><td>77               </td></tr>\n",
       "\t<tr><td>74430            </td><td>HR               </td><td>region_4         </td><td>Bachelor's       </td><td>f                </td><td>other            </td><td>1                </td><td>31               </td><td> 3               </td><td>5                </td><td>0                </td><td>0                </td><td>51               </td></tr>\n",
       "\t<tr><td>72255                                           </td><td>Sales &amp; Marketing                           </td><td>region_13                                       </td><td>Bachelor's                                      </td><td>m                                               </td><td><span style=white-space:pre-wrap>other   </span></td><td>1                                               </td><td>31                                              </td><td> 1                                              </td><td>4                                               </td><td>0                                               </td><td>0                                               </td><td>47                                              </td></tr>\n",
       "\t<tr><td>38562            </td><td>Procurement      </td><td>region_2         </td><td>Bachelor's       </td><td>f                </td><td>other            </td><td>3                </td><td>31               </td><td> 2               </td><td>9                </td><td>0                </td><td>0                </td><td>65               </td></tr>\n",
       "\t<tr><td>64486            </td><td>Finance          </td><td>region_29        </td><td>Bachelor's       </td><td>m                </td><td>sourcing         </td><td>1                </td><td>30               </td><td> 4               </td><td>7                </td><td>0                </td><td>0                </td><td>61               </td></tr>\n",
       "\t<tr><td>46232            </td><td>Procurement      </td><td>region_7         </td><td>Bachelor's       </td><td>m                </td><td>sourcing         </td><td>1                </td><td>36               </td><td> 3               </td><td>2                </td><td>0                </td><td>0                </td><td>68               </td></tr>\n",
       "</tbody>\n",
       "</table>\n"
      ],
      "text/latex": [
       "\\begin{tabular}{r|lllllllllllll}\n",
       " employee\\_id & department & region & education & gender & recruitment\\_channel & no\\_of\\_trainings & age & previous\\_year\\_rating & length\\_of\\_service & KPIs\\_met..80. & awards\\_won. & avg\\_training\\_score\\\\\n",
       "\\hline\n",
       "\t  8724             & Technology        & region\\_26       & Bachelor's        & m                 & sourcing          & 1                 & 24                & NA                & 1                 & 1                 & 0                 & 77               \\\\\n",
       "\t 74430             & HR                & region\\_4        & Bachelor's        & f                 & other             & 1                 & 31                &  3                & 5                 & 0                 & 0                 & 51               \\\\\n",
       "\t 72255               & Sales \\& Marketing & region\\_13         & Bachelor's          & m                   & other               & 1                   & 31                  &  1                  & 4                   & 0                   & 0                   & 47                 \\\\\n",
       "\t 38562             & Procurement       & region\\_2        & Bachelor's        & f                 & other             & 3                 & 31                &  2                & 9                 & 0                 & 0                 & 65               \\\\\n",
       "\t 64486             & Finance           & region\\_29       & Bachelor's        & m                 & sourcing          & 1                 & 30                &  4                & 7                 & 0                 & 0                 & 61               \\\\\n",
       "\t 46232             & Procurement       & region\\_7        & Bachelor's        & m                 & sourcing          & 1                 & 36                &  3                & 2                 & 0                 & 0                 & 68               \\\\\n",
       "\\end{tabular}\n"
      ],
      "text/markdown": [
       "\n",
       "| employee_id | department | region | education | gender | recruitment_channel | no_of_trainings | age | previous_year_rating | length_of_service | KPIs_met..80. | awards_won. | avg_training_score |\n",
       "|---|---|---|---|---|---|---|---|---|---|---|---|---|\n",
       "|  8724             | Technology        | region_26         | Bachelor's        | m                 | sourcing          | 1                 | 24                | NA                | 1                 | 1                 | 0                 | 77                |\n",
       "| 74430             | HR                | region_4          | Bachelor's        | f                 | other             | 1                 | 31                |  3                | 5                 | 0                 | 0                 | 51                |\n",
       "| 72255             | Sales & Marketing | region_13         | Bachelor's        | m                 | other             | 1                 | 31                |  1                | 4                 | 0                 | 0                 | 47                |\n",
       "| 38562             | Procurement       | region_2          | Bachelor's        | f                 | other             | 3                 | 31                |  2                | 9                 | 0                 | 0                 | 65                |\n",
       "| 64486             | Finance           | region_29         | Bachelor's        | m                 | sourcing          | 1                 | 30                |  4                | 7                 | 0                 | 0                 | 61                |\n",
       "| 46232             | Procurement       | region_7          | Bachelor's        | m                 | sourcing          | 1                 | 36                |  3                | 2                 | 0                 | 0                 | 68                |\n",
       "\n"
      ],
      "text/plain": [
       "  employee_id department        region    education  gender recruitment_channel\n",
       "1  8724       Technology        region_26 Bachelor's m      sourcing           \n",
       "2 74430       HR                region_4  Bachelor's f      other              \n",
       "3 72255       Sales & Marketing region_13 Bachelor's m      other              \n",
       "4 38562       Procurement       region_2  Bachelor's f      other              \n",
       "5 64486       Finance           region_29 Bachelor's m      sourcing           \n",
       "6 46232       Procurement       region_7  Bachelor's m      sourcing           \n",
       "  no_of_trainings age previous_year_rating length_of_service KPIs_met..80.\n",
       "1 1               24  NA                   1                 1            \n",
       "2 1               31   3                   5                 0            \n",
       "3 1               31   1                   4                 0            \n",
       "4 3               31   2                   9                 0            \n",
       "5 1               30   4                   7                 0            \n",
       "6 1               36   3                   2                 0            \n",
       "  awards_won. avg_training_score\n",
       "1 0           77                \n",
       "2 0           51                \n",
       "3 0           47                \n",
       "4 0           65                \n",
       "5 0           61                \n",
       "6 0           68                "
      ]
     },
     "metadata": {},
     "output_type": "display_data"
    }
   ],
   "source": [
    "head(train)\n",
    "head(test)"
   ]
  },
  {
   "cell_type": "code",
   "execution_count": 11,
   "metadata": {},
   "outputs": [
    {
     "data": {
      "text/plain": [
       "  employee_id                department          region     \n",
       " Min.   :    1   Sales & Marketing:16840   region_2 :12343  \n",
       " 1st Qu.:19670   Operations       :11348   region_22: 6428  \n",
       " Median :39226   Procurement      : 7138   region_7 : 4843  \n",
       " Mean   :39196   Technology       : 7138   region_15: 2808  \n",
       " 3rd Qu.:58731   Analytics        : 5352   region_13: 2648  \n",
       " Max.   :78298   Finance          : 2536   region_26: 2260  \n",
       "                 (Other)          : 4456   (Other)  :23478  \n",
       "            education     gender    recruitment_channel no_of_trainings \n",
       "                 : 2409   f:16312   other   :30446      Min.   : 1.000  \n",
       " Bachelor's      :36669   m:38496   referred: 1142      1st Qu.: 1.000  \n",
       " Below Secondary :  805             sourcing:23220      Median : 1.000  \n",
       " Master's & above:14925                                 Mean   : 1.253  \n",
       "                                                        3rd Qu.: 1.000  \n",
       "                                                        Max.   :10.000  \n",
       "                                                                        \n",
       "      age       previous_year_rating length_of_service KPIs_met..80.  \n",
       " Min.   :20.0   Min.   :1.000        Min.   : 1.000    Min.   :0.000  \n",
       " 1st Qu.:29.0   1st Qu.:3.000        1st Qu.: 3.000    1st Qu.:0.000  \n",
       " Median :33.0   Median :3.000        Median : 5.000    Median :0.000  \n",
       " Mean   :34.8   Mean   :3.329        Mean   : 5.866    Mean   :0.352  \n",
       " 3rd Qu.:39.0   3rd Qu.:4.000        3rd Qu.: 7.000    3rd Qu.:1.000  \n",
       " Max.   :60.0   Max.   :5.000        Max.   :37.000    Max.   :1.000  \n",
       "                NA's   :4124                                          \n",
       "  awards_won.      avg_training_score  is_promoted     \n",
       " Min.   :0.00000   Min.   :39.00      Min.   :0.00000  \n",
       " 1st Qu.:0.00000   1st Qu.:51.00      1st Qu.:0.00000  \n",
       " Median :0.00000   Median :60.00      Median :0.00000  \n",
       " Mean   :0.02317   Mean   :63.39      Mean   :0.08517  \n",
       " 3rd Qu.:0.00000   3rd Qu.:76.00      3rd Qu.:0.00000  \n",
       " Max.   :1.00000   Max.   :99.00      Max.   :1.00000  \n",
       "                                                       "
      ]
     },
     "metadata": {},
     "output_type": "display_data"
    },
    {
     "name": "stdout",
     "output_type": "stream",
     "text": [
      "'data.frame':\t54808 obs. of  14 variables:\n",
      " $ employee_id         : int  65438 65141 7513 2542 48945 58896 20379 16290 73202 28911 ...\n",
      " $ department          : Factor w/ 9 levels \"Analytics\",\"Finance\",..: 8 5 8 8 9 1 5 5 1 8 ...\n",
      " $ region              : Factor w/ 34 levels \"region_1\",\"region_10\",..: 32 15 11 16 19 12 13 28 13 1 ...\n",
      " $ education           : Factor w/ 4 levels \"\",\"Bachelor's\",..: 4 2 2 2 2 2 2 4 2 4 ...\n",
      " $ gender              : Factor w/ 2 levels \"f\",\"m\": 1 2 2 2 2 2 1 2 2 2 ...\n",
      " $ recruitment_channel : Factor w/ 3 levels \"other\",\"referred\",..: 3 1 3 1 1 3 1 3 1 3 ...\n",
      " $ no_of_trainings     : int  1 1 1 2 1 2 1 1 1 1 ...\n",
      " $ age                 : int  35 30 34 39 45 31 31 33 28 32 ...\n",
      " $ previous_year_rating: int  5 5 3 1 3 3 3 3 4 5 ...\n",
      " $ length_of_service   : int  8 4 7 10 2 7 5 6 5 5 ...\n",
      " $ KPIs_met..80.       : int  1 0 0 0 0 0 0 0 0 1 ...\n",
      " $ awards_won.         : int  0 0 0 0 0 0 0 0 0 0 ...\n",
      " $ avg_training_score  : int  49 60 50 50 73 85 59 63 83 54 ...\n",
      " $ is_promoted         : int  0 0 0 0 0 0 0 0 0 0 ...\n"
     ]
    },
    {
     "data": {
      "text/plain": [
       "  employee_id                department         region     \n",
       " Min.   :    3   Sales & Marketing:7315   region_2 : 5299  \n",
       " 1st Qu.:19370   Operations       :4764   region_22: 2739  \n",
       " Median :38964   Procurement      :3020   region_7 : 1982  \n",
       " Mean   :39041   Technology       :3011   region_13: 1167  \n",
       " 3rd Qu.:58690   Analytics        :2319   region_15: 1130  \n",
       " Max.   :78295   Finance          :1091   region_26: 1011  \n",
       "                 (Other)          :1970   (Other)  :10162  \n",
       "            education     gender    recruitment_channel no_of_trainings\n",
       "                 : 1034   f: 6894   other   :13078      Min.   :1.000  \n",
       " Bachelor's      :15578   m:16596   referred:  451      1st Qu.:1.000  \n",
       " Below Secondary :  374             sourcing: 9961      Median :1.000  \n",
       " Master's & above: 6504                                 Mean   :1.254  \n",
       "                                                        3rd Qu.:1.000  \n",
       "                                                        Max.   :9.000  \n",
       "                                                                       \n",
       "      age        previous_year_rating length_of_service KPIs_met..80.   \n",
       " Min.   :20.00   Min.   :1.000        Min.   : 1.00     Min.   :0.0000  \n",
       " 1st Qu.:29.00   1st Qu.:3.000        1st Qu.: 3.00     1st Qu.:0.0000  \n",
       " Median :33.00   Median :3.000        Median : 5.00     Median :0.0000  \n",
       " Mean   :34.78   Mean   :3.339        Mean   : 5.81     Mean   :0.3588  \n",
       " 3rd Qu.:39.00   3rd Qu.:4.000        3rd Qu.: 7.00     3rd Qu.:1.0000  \n",
       " Max.   :60.00   Max.   :5.000        Max.   :34.00     Max.   :1.0000  \n",
       "                 NA's   :1812                                           \n",
       "  awards_won.      avg_training_score\n",
       " Min.   :0.00000   Min.   :39.00     \n",
       " 1st Qu.:0.00000   1st Qu.:51.00     \n",
       " Median :0.00000   Median :60.00     \n",
       " Mean   :0.02278   Mean   :63.26     \n",
       " 3rd Qu.:0.00000   3rd Qu.:76.00     \n",
       " Max.   :1.00000   Max.   :99.00     \n",
       "                                     "
      ]
     },
     "metadata": {},
     "output_type": "display_data"
    },
    {
     "name": "stdout",
     "output_type": "stream",
     "text": [
      "'data.frame':\t23490 obs. of  13 variables:\n",
      " $ employee_id         : int  8724 74430 72255 38562 64486 46232 54542 67269 66174 76303 ...\n",
      " $ department          : Factor w/ 9 levels \"Analytics\",\"Finance\",..: 9 3 8 6 2 6 2 1 9 9 ...\n",
      " $ region              : Factor w/ 34 levels \"region_1\",\"region_10\",..: 19 29 5 12 22 32 12 15 32 15 ...\n",
      " $ education           : Factor w/ 4 levels \"\",\"Bachelor's\",..: 2 2 2 2 2 2 2 2 4 2 ...\n",
      " $ gender              : Factor w/ 2 levels \"f\",\"m\": 2 1 2 1 2 2 2 2 2 2 ...\n",
      " $ recruitment_channel : Factor w/ 3 levels \"other\",\"referred\",..: 3 1 1 1 3 3 1 3 1 3 ...\n",
      " $ no_of_trainings     : int  1 1 1 3 1 1 1 2 1 1 ...\n",
      " $ age                 : int  24 31 31 31 30 36 33 36 51 29 ...\n",
      " $ previous_year_rating: int  NA 3 1 2 4 3 5 3 4 5 ...\n",
      " $ length_of_service   : int  1 5 4 9 7 2 3 3 11 2 ...\n",
      " $ KPIs_met..80.       : int  1 0 0 0 0 0 1 0 0 1 ...\n",
      " $ awards_won.         : int  0 0 0 0 0 0 0 0 0 0 ...\n",
      " $ avg_training_score  : int  77 51 47 65 61 68 57 85 75 76 ...\n"
     ]
    }
   ],
   "source": [
    "summary(train)\n",
    "str(train)\n",
    "summary(test)\n",
    "str(test)"
   ]
  },
  {
   "cell_type": "markdown",
   "metadata": {},
   "source": [
    "#### Checking for missing values"
   ]
  },
  {
   "cell_type": "code",
   "execution_count": 16,
   "metadata": {
    "scrolled": false
   },
   "outputs": [
    {
     "data": {
      "image/png": "[encoded data removed]",
      "text/plain": [
       "Plot with title \"Missing Map\""
      ]
     },
     "metadata": {},
     "output_type": "display_data"
    },
    {
     "data": {
      "image/png": "[encoded data removed]",
      "text/plain": [
       "Plot with title \"Mising Map\""
      ]
     },
     "metadata": {},
     "output_type": "display_data"
    }
   ],
   "source": [
    "library(Amelia)\n",
    "missmap(train, main='Missing Map',col=c('blue','black'),legend=FALSE)\n",
    "missmap(test, main=\"Mising Map\", col=c('blue','black'),legend=FALSE)"
   ]
  },
  {
   "cell_type": "code",
   "execution_count": 3,
   "metadata": {},
   "outputs": [],
   "source": [
    "# Imputing NA values\n",
    "library(DMwR)\n",
    "train <- centralImputation(train)\n",
    "test <- centralImputation(test)"
   ]
  },
  {
   "cell_type": "markdown",
   "metadata": {},
   "source": [
    "### Explanatory Data Analysis\n"
   ]
  },
  {
   "cell_type": "markdown",
   "metadata": {},
   "source": [
    "#### Uni-Variate Analysis"
   ]
  },
  {
   "cell_type": "code",
   "execution_count": 4,
   "metadata": {},
   "outputs": [],
   "source": [
    "library(ggplot2)"
   ]
  },
  {
   "cell_type": "code",
   "execution_count": 46,
   "metadata": {
    "scrolled": false
   },
   "outputs": [
    {
     "data": {
      "image/png": "[encoded data removed]",
      "text/plain": [
       "plot without title"
      ]
     },
     "metadata": {},
     "output_type": "display_data"
    }
   ],
   "source": [
    "ggplot(data=train,aes(x=department)) +geom_bar(color=\"black\",fill=\"dodgerblue\",width=0.7) + theme_minimal()"
   ]
  },
  {
   "cell_type": "code",
   "execution_count": 67,
   "metadata": {},
   "outputs": [
    {
     "data": {
      "image/png": "[encoded data removed]",
      "text/plain": [
       "plot without title"
      ]
     },
     "metadata": {},
     "output_type": "display_data"
    }
   ],
   "source": [
    "ggplot(train,aes(is_promoted)) + geom_bar(fill=\"dodgerblue\",color=\"black\",width=0.7) + theme_minimal()"
   ]
  },
  {
   "cell_type": "code",
   "execution_count": 24,
   "metadata": {},
   "outputs": [
    {
     "data": {
      "image/png": "[encoded data removed]",
      "text/plain": [
       "plot without title"
      ]
     },
     "metadata": {},
     "output_type": "display_data"
    }
   ],
   "source": [
    "ggplot(train,aes(avg_training_score)) + \n",
    "    geom_bar(color=\"black\",fill=\"dodgerblue\") + \n",
    "    theme_minimal()"
   ]
  },
  {
   "cell_type": "code",
   "execution_count": 48,
   "metadata": {},
   "outputs": [
    {
     "data": {
      "image/png": "[encoded data removed]",
      "text/plain": [
       "plot without title"
      ]
     },
     "metadata": {},
     "output_type": "display_data"
    }
   ],
   "source": [
    "ggplot(train,aes(length_of_service)) + geom_bar(color=\"black\",fill=\"dodgerblue\") + theme_minimal()"
   ]
  },
  {
   "cell_type": "code",
   "execution_count": 49,
   "metadata": {},
   "outputs": [
    {
     "data": {
      "image/png": "[encoded data removed]",
      "text/plain": [
       "plot without title"
      ]
     },
     "metadata": {},
     "output_type": "display_data"
    }
   ],
   "source": [
    "ggplot(train,aes(previous_year_rating)) + geom_bar(color=\"black\",fill=\"dodgerblue\") + theme_minimal()"
   ]
  },
  {
   "cell_type": "code",
   "execution_count": 50,
   "metadata": {},
   "outputs": [
    {
     "data": {
      "image/png": "[encoded data removed]",
      "text/plain": [
       "plot without title"
      ]
     },
     "metadata": {},
     "output_type": "display_data"
    }
   ],
   "source": [
    "ggplot(train,aes(age)) + geom_bar(color=\"black\",fill=\"dodgerblue\") + theme_minimal()"
   ]
  },
  {
   "cell_type": "code",
   "execution_count": 51,
   "metadata": {},
   "outputs": [
    {
     "data": {
      "image/png": "[encoded data removed]",
      "text/plain": [
       "plot without title"
      ]
     },
     "metadata": {},
     "output_type": "display_data"
    }
   ],
   "source": [
    "ggplot(train,aes(education)) + geom_bar(color=\"black\",fill=\"dodgerblue\") + theme_minimal()"
   ]
  },
  {
   "cell_type": "code",
   "execution_count": 42,
   "metadata": {},
   "outputs": [
    {
     "data": {
      "text/plain": [
       "\n",
       "    0     1 \n",
       "35517 19291 "
      ]
     },
     "metadata": {},
     "output_type": "display_data"
    }
   ],
   "source": [
    "table(train$KPIs_met..80.)"
   ]
  },
  {
   "cell_type": "code",
   "execution_count": 63,
   "metadata": {},
   "outputs": [
    {
     "data": {
      "image/png": "[encoded data removed]",
      "text/plain": [
       "Plot with title \"Employee's KPI\""
      ]
     },
     "metadata": {},
     "output_type": "display_data"
    }
   ],
   "source": [
    "library(plotrix)\n",
    "v <- c(35517,19291)\n",
    "lbl <- c(\"Not met KPI > 80%\",\"Met KPI > 80%\")\n",
    "pie3D(v,labels=lbl,main=\"Employee's KPI\",col=c(\"#0066ff\",\"#99c2ff\"))"
   ]
  },
  {
   "cell_type": "code",
   "execution_count": 64,
   "metadata": {},
   "outputs": [
    {
     "data": {
      "text/plain": [
       "\n",
       "    f     m \n",
       "16312 38496 "
      ]
     },
     "metadata": {},
     "output_type": "display_data"
    }
   ],
   "source": [
    "table(train$gender)"
   ]
  },
  {
   "cell_type": "code",
   "execution_count": 65,
   "metadata": {},
   "outputs": [
    {
     "data": {
      "image/png": "[encoded data removed]",
      "text/plain": [
       "Plot with title \"Gender Ratio\""
      ]
     },
     "metadata": {},
     "output_type": "display_data"
    }
   ],
   "source": [
    "v <- c(16312,38496)\n",
    "lbl <- c(\"Female\",\"Male\")\n",
    "pie3D(v,labels=lbl,main=\"Gender Ratio\",col=c(\"#ff99ff\",\"#ff99c2\"))"
   ]
  },
  {
   "cell_type": "code",
   "execution_count": 75,
   "metadata": {},
   "outputs": [
    {
     "data": {
      "image/png": "[encoded data removed]",
      "text/plain": [
       "plot without title"
      ]
     },
     "metadata": {},
     "output_type": "display_data"
    }
   ],
   "source": [
    "ggplot(train,aes(awards_won.)) + geom_bar(color=\"black\",fill=\"dodgerblue\",width=0.7) + theme_minimal()"
   ]
  },
  {
   "cell_type": "markdown",
   "metadata": {},
   "source": [
    "### Bi-Variate Analysis"
   ]
  },
  {
   "cell_type": "code",
   "execution_count": 8,
   "metadata": {},
   "outputs": [
    {
     "data": {
      "image/png": "[encoded data removed]",
      "text/plain": [
       "plot without title"
      ]
     },
     "metadata": {},
     "output_type": "display_data"
    }
   ],
   "source": [
    "ggplot(data = train,aes(x=department,fill=factor(is_promoted)))+geom_bar(position=\"fill\",width=0.7)+scale_fill_brewer(palette=\"Dark2\")+coord_flip()+theme_minimal()"
   ]
  },
  {
   "cell_type": "code",
   "execution_count": 130,
   "metadata": {},
   "outputs": [
    {
     "data": {
      "image/png": "[encoded data removed]",
      "text/plain": [
       "plot without title"
      ]
     },
     "metadata": {},
     "output_type": "display_data"
    }
   ],
   "source": [
    "ggplot(data = train,aes(x=KPIs_met..80.,fill=factor(is_promoted)))+geom_bar(position=\"fill\",width=0.7)+scale_fill_brewer()+theme_minimal()"
   ]
  },
  {
   "cell_type": "code",
   "execution_count": 25,
   "metadata": {},
   "outputs": [
    {
     "data": {
      "image/png": "[encoded data removed]",
      "text/plain": [
       "plot without title"
      ]
     },
     "metadata": {},
     "output_type": "display_data"
    }
   ],
   "source": [
    "ggplot(data = train,aes(x=age,fill=factor(is_promoted)))+geom_bar(position=\"fill\",width=0.7)+scale_fill_brewer(palette=7)+theme_minimal()"
   ]
  },
  {
   "cell_type": "code",
   "execution_count": 9,
   "metadata": {},
   "outputs": [
    {
     "data": {
      "image/png": "[encoded data removed]",
      "text/plain": [
       "plot without title"
      ]
     },
     "metadata": {},
     "output_type": "display_data"
    }
   ],
   "source": [
    "ggplot(data = train,aes(x=avg_training_score,fill=factor(is_promoted)))+geom_bar(position=\"fill\",width=0.7)+scale_fill_brewer()+theme_minimal()"
   ]
  },
  {
   "cell_type": "code",
   "execution_count": 30,
   "metadata": {},
   "outputs": [
    {
     "data": {
      "image/png": "[encoded data removed]",
      "text/plain": [
       "plot without title"
      ]
     },
     "metadata": {},
     "output_type": "display_data"
    }
   ],
   "source": [
    "ggplot(data = train,aes(x=previous_year_rating,fill=factor(is_promoted)))+geom_bar(position=\"fill\",width=0.7)+scale_fill_brewer(palette=17)+theme_minimal()"
   ]
  },
  {
   "cell_type": "code",
   "execution_count": 32,
   "metadata": {},
   "outputs": [
    {
     "data": {
      "image/png": "[encoded data removed]",
      "text/plain": [
       "plot without title"
      ]
     },
     "metadata": {},
     "output_type": "display_data"
    }
   ],
   "source": [
    "ggplot(data = train,aes(x=length_of_service,fill=factor(is_promoted)))+geom_bar(position=\"fill\",width=0.7)+scale_fill_brewer(palette=12)+theme_minimal()"
   ]
  },
  {
   "cell_type": "code",
   "execution_count": 37,
   "metadata": {},
   "outputs": [
    {
     "data": {
      "image/png": "[encoded data removed]",
      "text/plain": [
       "plot without title"
      ]
     },
     "metadata": {},
     "output_type": "display_data"
    }
   ],
   "source": [
    "ggplot(data = train,aes(x=awards_won.,fill=factor(is_promoted)))+geom_bar(position=\"fill\",width=0.7)+scale_fill_brewer(palette=18)+theme_minimal()"
   ]
  },
  {
   "cell_type": "code",
   "execution_count": 38,
   "metadata": {},
   "outputs": [
    {
     "data": {
      "image/png": "[encoded data removed]",
      "text/plain": [
       "plot without title"
      ]
     },
     "metadata": {},
     "output_type": "display_data"
    }
   ],
   "source": [
    "ggplot(data = train,aes(x=gender,fill=factor(is_promoted)))+geom_bar(position=\"fill\",width=0.7)+scale_fill_brewer(palette=5)+theme_minimal()"
   ]
  },
  {
   "cell_type": "code",
   "execution_count": 40,
   "metadata": {},
   "outputs": [
    {
     "data": {
      "image/png": "[encoded data removed]",
      "text/plain": [
       "plot without title"
      ]
     },
     "metadata": {},
     "output_type": "display_data"
    }
   ],
   "source": [
    "ggplot(data = train,aes(x=recruitment_channel,fill=factor(is_promoted)))+geom_bar(position=\"fill\",width=0.7)+scale_fill_brewer(palette=11)+theme_minimal()"
   ]
  },
  {
   "cell_type": "code",
   "execution_count": 44,
   "metadata": {},
   "outputs": [
    {
     "data": {
      "image/png": "[encoded data removed]",
      "text/plain": [
       "plot without title"
      ]
     },
     "metadata": {},
     "output_type": "display_data"
    }
   ],
   "source": [
    "ggplot(data = train,aes(x=no_of_trainings,fill=factor(is_promoted)))+geom_bar(position=\"fill\",width=0.7)+scale_fill_brewer(palette=01)+theme_minimal()"
   ]
  },
  {
   "cell_type": "code",
   "execution_count": 46,
   "metadata": {},
   "outputs": [
    {
     "data": {
      "image/png": "[encoded data removed]",
      "text/plain": [
       "plot without title"
      ]
     },
     "metadata": {},
     "output_type": "display_data"
    }
   ],
   "source": [
    "ggplot(data = train,aes(x=region,fill=factor(is_promoted)))+geom_bar(position=\"fill\",width=0.7)+scale_fill_brewer(palette=14)+coord_flip()+theme_minimal()"
   ]
  },
  {
   "cell_type": "markdown",
   "metadata": {},
   "source": [
    "## Modelling"
   ]
  },
  {
   "cell_type": "markdown",
   "metadata": {},
   "source": [
    "#### Creating Dummy for Categorical Variables"
   ]
  },
  {
   "cell_type": "code",
   "execution_count": 50,
   "metadata": {},
   "outputs": [],
   "source": [
    "library(dummies)\n",
    "\n",
    "train <- dummy.data.frame(train,sep=\"_\")\n",
    "test <- dummy.data.frame(test,sep=\"_\")"
   ]
  },
  {
   "cell_type": "code",
   "execution_count": 51,
   "metadata": {},
   "outputs": [
    {
     "data": {
      "text/html": [
       "<table>\n",
       "<thead><tr><th scope=col>employee_id</th><th scope=col>department_Analytics</th><th scope=col>department_Finance</th><th scope=col>department_HR</th><th scope=col>department_Legal</th><th scope=col>department_Operations</th><th scope=col>department_Procurement</th><th scope=col>department_R&amp;D</th><th scope=col>department_Sales &amp; Marketing</th><th scope=col>department_Technology</th><th scope=col>...</th><th scope=col>recruitment_channel_referred</th><th scope=col>recruitment_channel_sourcing</th><th scope=col>no_of_trainings</th><th scope=col>age</th><th scope=col>previous_year_rating</th><th scope=col>length_of_service</th><th scope=col>KPIs_met..80.</th><th scope=col>awards_won.</th><th scope=col>avg_training_score</th><th scope=col>is_promoted</th></tr></thead>\n",
       "<tbody>\n",
       "\t<tr><td>65438</td><td>0    </td><td>0    </td><td>0    </td><td>0    </td><td>0    </td><td>0    </td><td>0    </td><td>1    </td><td>0    </td><td>...  </td><td>0    </td><td>1    </td><td>1    </td><td>35   </td><td>5    </td><td> 8   </td><td>1    </td><td>0    </td><td>49   </td><td>0    </td></tr>\n",
       "\t<tr><td>65141</td><td>0    </td><td>0    </td><td>0    </td><td>0    </td><td>1    </td><td>0    </td><td>0    </td><td>0    </td><td>0    </td><td>...  </td><td>0    </td><td>0    </td><td>1    </td><td>30   </td><td>5    </td><td> 4   </td><td>0    </td><td>0    </td><td>60   </td><td>0    </td></tr>\n",
       "\t<tr><td> 7513</td><td>0    </td><td>0    </td><td>0    </td><td>0    </td><td>0    </td><td>0    </td><td>0    </td><td>1    </td><td>0    </td><td>...  </td><td>0    </td><td>1    </td><td>1    </td><td>34   </td><td>3    </td><td> 7   </td><td>0    </td><td>0    </td><td>50   </td><td>0    </td></tr>\n",
       "\t<tr><td> 2542</td><td>0    </td><td>0    </td><td>0    </td><td>0    </td><td>0    </td><td>0    </td><td>0    </td><td>1    </td><td>0    </td><td>...  </td><td>0    </td><td>0    </td><td>2    </td><td>39   </td><td>1    </td><td>10   </td><td>0    </td><td>0    </td><td>50   </td><td>0    </td></tr>\n",
       "\t<tr><td>48945</td><td>0    </td><td>0    </td><td>0    </td><td>0    </td><td>0    </td><td>0    </td><td>0    </td><td>0    </td><td>1    </td><td>...  </td><td>0    </td><td>0    </td><td>1    </td><td>45   </td><td>3    </td><td> 2   </td><td>0    </td><td>0    </td><td>73   </td><td>0    </td></tr>\n",
       "\t<tr><td>58896</td><td>1    </td><td>0    </td><td>0    </td><td>0    </td><td>0    </td><td>0    </td><td>0    </td><td>0    </td><td>0    </td><td>...  </td><td>0    </td><td>1    </td><td>2    </td><td>31   </td><td>3    </td><td> 7   </td><td>0    </td><td>0    </td><td>85   </td><td>0    </td></tr>\n",
       "</tbody>\n",
       "</table>\n"
      ],
      "text/latex": [
       "\\begin{tabular}{r|lllllllllllllllllllllllllllllllllllllllllllllllllllllllllllll}\n",
       " employee\\_id & department\\_Analytics & department\\_Finance & department\\_HR & department\\_Legal & department\\_Operations & department\\_Procurement & department\\_R\\&D & department\\_Sales \\& Marketing & department\\_Technology & ... & recruitment\\_channel\\_referred & recruitment\\_channel\\_sourcing & no\\_of\\_trainings & age & previous\\_year\\_rating & length\\_of\\_service & KPIs\\_met..80. & awards\\_won. & avg\\_training\\_score & is\\_promoted\\\\\n",
       "\\hline\n",
       "\t 65438 & 0     & 0     & 0     & 0     & 0     & 0     & 0     & 1     & 0     & ...   & 0     & 1     & 1     & 35    & 5     &  8    & 1     & 0     & 49    & 0    \\\\\n",
       "\t 65141 & 0     & 0     & 0     & 0     & 1     & 0     & 0     & 0     & 0     & ...   & 0     & 0     & 1     & 30    & 5     &  4    & 0     & 0     & 60    & 0    \\\\\n",
       "\t  7513 & 0     & 0     & 0     & 0     & 0     & 0     & 0     & 1     & 0     & ...   & 0     & 1     & 1     & 34    & 3     &  7    & 0     & 0     & 50    & 0    \\\\\n",
       "\t  2542 & 0     & 0     & 0     & 0     & 0     & 0     & 0     & 1     & 0     & ...   & 0     & 0     & 2     & 39    & 1     & 10    & 0     & 0     & 50    & 0    \\\\\n",
       "\t 48945 & 0     & 0     & 0     & 0     & 0     & 0     & 0     & 0     & 1     & ...   & 0     & 0     & 1     & 45    & 3     &  2    & 0     & 0     & 73    & 0    \\\\\n",
       "\t 58896 & 1     & 0     & 0     & 0     & 0     & 0     & 0     & 0     & 0     & ...   & 0     & 1     & 2     & 31    & 3     &  7    & 0     & 0     & 85    & 0    \\\\\n",
       "\\end{tabular}\n"
      ],
      "text/markdown": [
       "\n",
       "| employee_id | department_Analytics | department_Finance | department_HR | department_Legal | department_Operations | department_Procurement | department_R&D | department_Sales & Marketing | department_Technology | ... | recruitment_channel_referred | recruitment_channel_sourcing | no_of_trainings | age | previous_year_rating | length_of_service | KPIs_met..80. | awards_won. | avg_training_score | is_promoted |\n",
       "|---|---|---|---|---|---|---|---|---|---|---|---|---|---|---|---|---|---|---|---|---|\n",
       "| 65438 | 0     | 0     | 0     | 0     | 0     | 0     | 0     | 1     | 0     | ...   | 0     | 1     | 1     | 35    | 5     |  8    | 1     | 0     | 49    | 0     |\n",
       "| 65141 | 0     | 0     | 0     | 0     | 1     | 0     | 0     | 0     | 0     | ...   | 0     | 0     | 1     | 30    | 5     |  4    | 0     | 0     | 60    | 0     |\n",
       "|  7513 | 0     | 0     | 0     | 0     | 0     | 0     | 0     | 1     | 0     | ...   | 0     | 1     | 1     | 34    | 3     |  7    | 0     | 0     | 50    | 0     |\n",
       "|  2542 | 0     | 0     | 0     | 0     | 0     | 0     | 0     | 1     | 0     | ...   | 0     | 0     | 2     | 39    | 1     | 10    | 0     | 0     | 50    | 0     |\n",
       "| 48945 | 0     | 0     | 0     | 0     | 0     | 0     | 0     | 0     | 1     | ...   | 0     | 0     | 1     | 45    | 3     |  2    | 0     | 0     | 73    | 0     |\n",
       "| 58896 | 1     | 0     | 0     | 0     | 0     | 0     | 0     | 0     | 0     | ...   | 0     | 1     | 2     | 31    | 3     |  7    | 0     | 0     | 85    | 0     |\n",
       "\n"
      ],
      "text/plain": [
       "  employee_id department_Analytics department_Finance department_HR\n",
       "1 65438       0                    0                  0            \n",
       "2 65141       0                    0                  0            \n",
       "3  7513       0                    0                  0            \n",
       "4  2542       0                    0                  0            \n",
       "5 48945       0                    0                  0            \n",
       "6 58896       1                    0                  0            \n",
       "  department_Legal department_Operations department_Procurement department_R&D\n",
       "1 0                0                     0                      0             \n",
       "2 0                1                     0                      0             \n",
       "3 0                0                     0                      0             \n",
       "4 0                0                     0                      0             \n",
       "5 0                0                     0                      0             \n",
       "6 0                0                     0                      0             \n",
       "  department_Sales & Marketing department_Technology ...\n",
       "1 1                            0                     ...\n",
       "2 0                            0                     ...\n",
       "3 1                            0                     ...\n",
       "4 1                            0                     ...\n",
       "5 0                            1                     ...\n",
       "6 0                            0                     ...\n",
       "  recruitment_channel_referred recruitment_channel_sourcing no_of_trainings age\n",
       "1 0                            1                            1               35 \n",
       "2 0                            0                            1               30 \n",
       "3 0                            1                            1               34 \n",
       "4 0                            0                            2               39 \n",
       "5 0                            0                            1               45 \n",
       "6 0                            1                            2               31 \n",
       "  previous_year_rating length_of_service KPIs_met..80. awards_won.\n",
       "1 5                     8                1             0          \n",
       "2 5                     4                0             0          \n",
       "3 3                     7                0             0          \n",
       "4 1                    10                0             0          \n",
       "5 3                     2                0             0          \n",
       "6 3                     7                0             0          \n",
       "  avg_training_score is_promoted\n",
       "1 49                 0          \n",
       "2 60                 0          \n",
       "3 50                 0          \n",
       "4 50                 0          \n",
       "5 73                 0          \n",
       "6 85                 0          "
      ]
     },
     "metadata": {},
     "output_type": "display_data"
    },
    {
     "data": {
      "text/html": [
       "<table>\n",
       "<thead><tr><th scope=col>employee_id</th><th scope=col>department_Analytics</th><th scope=col>department_Finance</th><th scope=col>department_HR</th><th scope=col>department_Legal</th><th scope=col>department_Operations</th><th scope=col>department_Procurement</th><th scope=col>department_R&amp;D</th><th scope=col>department_Sales &amp; Marketing</th><th scope=col>department_Technology</th><th scope=col>...</th><th scope=col>recruitment_channel_other</th><th scope=col>recruitment_channel_referred</th><th scope=col>recruitment_channel_sourcing</th><th scope=col>no_of_trainings</th><th scope=col>age</th><th scope=col>previous_year_rating</th><th scope=col>length_of_service</th><th scope=col>KPIs_met..80.</th><th scope=col>awards_won.</th><th scope=col>avg_training_score</th></tr></thead>\n",
       "<tbody>\n",
       "\t<tr><td> 8724</td><td>0    </td><td>0    </td><td>0    </td><td>0    </td><td>0    </td><td>0    </td><td>0    </td><td>0    </td><td>1    </td><td>...  </td><td>0    </td><td>0    </td><td>1    </td><td>1    </td><td>24   </td><td>3    </td><td>1    </td><td>1    </td><td>0    </td><td>77   </td></tr>\n",
       "\t<tr><td>74430</td><td>0    </td><td>0    </td><td>1    </td><td>0    </td><td>0    </td><td>0    </td><td>0    </td><td>0    </td><td>0    </td><td>...  </td><td>1    </td><td>0    </td><td>0    </td><td>1    </td><td>31   </td><td>3    </td><td>5    </td><td>0    </td><td>0    </td><td>51   </td></tr>\n",
       "\t<tr><td>72255</td><td>0    </td><td>0    </td><td>0    </td><td>0    </td><td>0    </td><td>0    </td><td>0    </td><td>1    </td><td>0    </td><td>...  </td><td>1    </td><td>0    </td><td>0    </td><td>1    </td><td>31   </td><td>1    </td><td>4    </td><td>0    </td><td>0    </td><td>47   </td></tr>\n",
       "\t<tr><td>38562</td><td>0    </td><td>0    </td><td>0    </td><td>0    </td><td>0    </td><td>1    </td><td>0    </td><td>0    </td><td>0    </td><td>...  </td><td>1    </td><td>0    </td><td>0    </td><td>3    </td><td>31   </td><td>2    </td><td>9    </td><td>0    </td><td>0    </td><td>65   </td></tr>\n",
       "\t<tr><td>64486</td><td>0    </td><td>1    </td><td>0    </td><td>0    </td><td>0    </td><td>0    </td><td>0    </td><td>0    </td><td>0    </td><td>...  </td><td>0    </td><td>0    </td><td>1    </td><td>1    </td><td>30   </td><td>4    </td><td>7    </td><td>0    </td><td>0    </td><td>61   </td></tr>\n",
       "\t<tr><td>46232</td><td>0    </td><td>0    </td><td>0    </td><td>0    </td><td>0    </td><td>1    </td><td>0    </td><td>0    </td><td>0    </td><td>...  </td><td>0    </td><td>0    </td><td>1    </td><td>1    </td><td>36   </td><td>3    </td><td>2    </td><td>0    </td><td>0    </td><td>68   </td></tr>\n",
       "</tbody>\n",
       "</table>\n"
      ],
      "text/latex": [
       "\\begin{tabular}{r|llllllllllllllllllllllllllllllllllllllllllllllllllllllllllll}\n",
       " employee\\_id & department\\_Analytics & department\\_Finance & department\\_HR & department\\_Legal & department\\_Operations & department\\_Procurement & department\\_R\\&D & department\\_Sales \\& Marketing & department\\_Technology & ... & recruitment\\_channel\\_other & recruitment\\_channel\\_referred & recruitment\\_channel\\_sourcing & no\\_of\\_trainings & age & previous\\_year\\_rating & length\\_of\\_service & KPIs\\_met..80. & awards\\_won. & avg\\_training\\_score\\\\\n",
       "\\hline\n",
       "\t  8724 & 0     & 0     & 0     & 0     & 0     & 0     & 0     & 0     & 1     & ...   & 0     & 0     & 1     & 1     & 24    & 3     & 1     & 1     & 0     & 77   \\\\\n",
       "\t 74430 & 0     & 0     & 1     & 0     & 0     & 0     & 0     & 0     & 0     & ...   & 1     & 0     & 0     & 1     & 31    & 3     & 5     & 0     & 0     & 51   \\\\\n",
       "\t 72255 & 0     & 0     & 0     & 0     & 0     & 0     & 0     & 1     & 0     & ...   & 1     & 0     & 0     & 1     & 31    & 1     & 4     & 0     & 0     & 47   \\\\\n",
       "\t 38562 & 0     & 0     & 0     & 0     & 0     & 1     & 0     & 0     & 0     & ...   & 1     & 0     & 0     & 3     & 31    & 2     & 9     & 0     & 0     & 65   \\\\\n",
       "\t 64486 & 0     & 1     & 0     & 0     & 0     & 0     & 0     & 0     & 0     & ...   & 0     & 0     & 1     & 1     & 30    & 4     & 7     & 0     & 0     & 61   \\\\\n",
       "\t 46232 & 0     & 0     & 0     & 0     & 0     & 1     & 0     & 0     & 0     & ...   & 0     & 0     & 1     & 1     & 36    & 3     & 2     & 0     & 0     & 68   \\\\\n",
       "\\end{tabular}\n"
      ],
      "text/markdown": [
       "\n",
       "| employee_id | department_Analytics | department_Finance | department_HR | department_Legal | department_Operations | department_Procurement | department_R&D | department_Sales & Marketing | department_Technology | ... | recruitment_channel_other | recruitment_channel_referred | recruitment_channel_sourcing | no_of_trainings | age | previous_year_rating | length_of_service | KPIs_met..80. | awards_won. | avg_training_score |\n",
       "|---|---|---|---|---|---|---|---|---|---|---|---|---|---|---|---|---|---|---|---|---|\n",
       "|  8724 | 0     | 0     | 0     | 0     | 0     | 0     | 0     | 0     | 1     | ...   | 0     | 0     | 1     | 1     | 24    | 3     | 1     | 1     | 0     | 77    |\n",
       "| 74430 | 0     | 0     | 1     | 0     | 0     | 0     | 0     | 0     | 0     | ...   | 1     | 0     | 0     | 1     | 31    | 3     | 5     | 0     | 0     | 51    |\n",
       "| 72255 | 0     | 0     | 0     | 0     | 0     | 0     | 0     | 1     | 0     | ...   | 1     | 0     | 0     | 1     | 31    | 1     | 4     | 0     | 0     | 47    |\n",
       "| 38562 | 0     | 0     | 0     | 0     | 0     | 1     | 0     | 0     | 0     | ...   | 1     | 0     | 0     | 3     | 31    | 2     | 9     | 0     | 0     | 65    |\n",
       "| 64486 | 0     | 1     | 0     | 0     | 0     | 0     | 0     | 0     | 0     | ...   | 0     | 0     | 1     | 1     | 30    | 4     | 7     | 0     | 0     | 61    |\n",
       "| 46232 | 0     | 0     | 0     | 0     | 0     | 1     | 0     | 0     | 0     | ...   | 0     | 0     | 1     | 1     | 36    | 3     | 2     | 0     | 0     | 68    |\n",
       "\n"
      ],
      "text/plain": [
       "  employee_id department_Analytics department_Finance department_HR\n",
       "1  8724       0                    0                  0            \n",
       "2 74430       0                    0                  1            \n",
       "3 72255       0                    0                  0            \n",
       "4 38562       0                    0                  0            \n",
       "5 64486       0                    1                  0            \n",
       "6 46232       0                    0                  0            \n",
       "  department_Legal department_Operations department_Procurement department_R&D\n",
       "1 0                0                     0                      0             \n",
       "2 0                0                     0                      0             \n",
       "3 0                0                     0                      0             \n",
       "4 0                0                     1                      0             \n",
       "5 0                0                     0                      0             \n",
       "6 0                0                     1                      0             \n",
       "  department_Sales & Marketing department_Technology ...\n",
       "1 0                            1                     ...\n",
       "2 0                            0                     ...\n",
       "3 1                            0                     ...\n",
       "4 0                            0                     ...\n",
       "5 0                            0                     ...\n",
       "6 0                            0                     ...\n",
       "  recruitment_channel_other recruitment_channel_referred\n",
       "1 0                         0                           \n",
       "2 1                         0                           \n",
       "3 1                         0                           \n",
       "4 1                         0                           \n",
       "5 0                         0                           \n",
       "6 0                         0                           \n",
       "  recruitment_channel_sourcing no_of_trainings age previous_year_rating\n",
       "1 1                            1               24  3                   \n",
       "2 0                            1               31  3                   \n",
       "3 0                            1               31  1                   \n",
       "4 0                            3               31  2                   \n",
       "5 1                            1               30  4                   \n",
       "6 1                            1               36  3                   \n",
       "  length_of_service KPIs_met..80. awards_won. avg_training_score\n",
       "1 1                 1             0           77                \n",
       "2 5                 0             0           51                \n",
       "3 4                 0             0           47                \n",
       "4 9                 0             0           65                \n",
       "5 7                 0             0           61                \n",
       "6 2                 0             0           68                "
      ]
     },
     "metadata": {},
     "output_type": "display_data"
    },
    {
     "data": {
      "text/html": [
       "<ol class=list-inline>\n",
       "\t<li>54808</li>\n",
       "\t<li>61</li>\n",
       "</ol>\n"
      ],
      "text/latex": [
       "\\begin{enumerate*}\n",
       "\\item 54808\n",
       "\\item 61\n",
       "\\end{enumerate*}\n"
      ],
      "text/markdown": [
       "1. 54808\n",
       "2. 61\n",
       "\n",
       "\n"
      ],
      "text/plain": [
       "[1] 54808    61"
      ]
     },
     "metadata": {},
     "output_type": "display_data"
    },
    {
     "data": {
      "text/html": [
       "<ol class=list-inline>\n",
       "\t<li>23490</li>\n",
       "\t<li>60</li>\n",
       "</ol>\n"
      ],
      "text/latex": [
       "\\begin{enumerate*}\n",
       "\\item 23490\n",
       "\\item 60\n",
       "\\end{enumerate*}\n"
      ],
      "text/markdown": [
       "1. 23490\n",
       "2. 60\n",
       "\n",
       "\n"
      ],
      "text/plain": [
       "[1] 23490    60"
      ]
     },
     "metadata": {},
     "output_type": "display_data"
    }
   ],
   "source": [
    "head(train)\n",
    "head(test)\n",
    "dim(train)\n",
    "dim(test)"
   ]
  },
  {
   "cell_type": "markdown",
   "metadata": {},
   "source": [
    "#### Creating training and testing data set"
   ]
  },
  {
   "cell_type": "code",
   "execution_count": 52,
   "metadata": {},
   "outputs": [],
   "source": [
    "set.seed(101)\n",
    "library(caTools)\n",
    "split <- sample.split(train$is_promoted, SplitRatio = 0.8)\n",
    "training_set <- subset(train, split == TRUE)\n",
    "test_set <- subset(train, split == FALSE)\n"
   ]
  },
  {
   "cell_type": "code",
   "execution_count": 53,
   "metadata": {},
   "outputs": [
    {
     "data": {
      "text/html": [
       "<table>\n",
       "<thead><tr><th scope=col>employee_id</th><th scope=col>department_Analytics</th><th scope=col>department_Finance</th><th scope=col>department_HR</th><th scope=col>department_Legal</th><th scope=col>department_Operations</th><th scope=col>department_Procurement</th><th scope=col>department_R&amp;D</th><th scope=col>department_Sales &amp; Marketing</th><th scope=col>department_Technology</th><th scope=col>...</th><th scope=col>recruitment_channel_referred</th><th scope=col>recruitment_channel_sourcing</th><th scope=col>no_of_trainings</th><th scope=col>age</th><th scope=col>previous_year_rating</th><th scope=col>length_of_service</th><th scope=col>KPIs_met..80.</th><th scope=col>awards_won.</th><th scope=col>avg_training_score</th><th scope=col>is_promoted</th></tr></thead>\n",
       "<tbody>\n",
       "\t<tr><td>65438</td><td>0    </td><td>0    </td><td>0    </td><td>0    </td><td>0    </td><td>0    </td><td>0    </td><td>1    </td><td>0    </td><td>...  </td><td>0    </td><td>1    </td><td>1    </td><td>35   </td><td>5    </td><td> 8   </td><td>1    </td><td>0    </td><td>49   </td><td>0    </td></tr>\n",
       "\t<tr><td>65141</td><td>0    </td><td>0    </td><td>0    </td><td>0    </td><td>1    </td><td>0    </td><td>0    </td><td>0    </td><td>0    </td><td>...  </td><td>0    </td><td>0    </td><td>1    </td><td>30   </td><td>5    </td><td> 4   </td><td>0    </td><td>0    </td><td>60   </td><td>0    </td></tr>\n",
       "\t<tr><td> 7513</td><td>0    </td><td>0    </td><td>0    </td><td>0    </td><td>0    </td><td>0    </td><td>0    </td><td>1    </td><td>0    </td><td>...  </td><td>0    </td><td>1    </td><td>1    </td><td>34   </td><td>3    </td><td> 7   </td><td>0    </td><td>0    </td><td>50   </td><td>0    </td></tr>\n",
       "\t<tr><td> 2542</td><td>0    </td><td>0    </td><td>0    </td><td>0    </td><td>0    </td><td>0    </td><td>0    </td><td>1    </td><td>0    </td><td>...  </td><td>0    </td><td>0    </td><td>2    </td><td>39   </td><td>1    </td><td>10   </td><td>0    </td><td>0    </td><td>50   </td><td>0    </td></tr>\n",
       "\t<tr><td>48945</td><td>0    </td><td>0    </td><td>0    </td><td>0    </td><td>0    </td><td>0    </td><td>0    </td><td>0    </td><td>1    </td><td>...  </td><td>0    </td><td>0    </td><td>1    </td><td>45   </td><td>3    </td><td> 2   </td><td>0    </td><td>0    </td><td>73   </td><td>0    </td></tr>\n",
       "\t<tr><td>58896</td><td>1    </td><td>0    </td><td>0    </td><td>0    </td><td>0    </td><td>0    </td><td>0    </td><td>0    </td><td>0    </td><td>...  </td><td>0    </td><td>1    </td><td>2    </td><td>31   </td><td>3    </td><td> 7   </td><td>0    </td><td>0    </td><td>85   </td><td>0    </td></tr>\n",
       "</tbody>\n",
       "</table>\n"
      ],
      "text/latex": [
       "\\begin{tabular}{r|lllllllllllllllllllllllllllllllllllllllllllllllllllllllllllll}\n",
       " employee\\_id & department\\_Analytics & department\\_Finance & department\\_HR & department\\_Legal & department\\_Operations & department\\_Procurement & department\\_R\\&D & department\\_Sales \\& Marketing & department\\_Technology & ... & recruitment\\_channel\\_referred & recruitment\\_channel\\_sourcing & no\\_of\\_trainings & age & previous\\_year\\_rating & length\\_of\\_service & KPIs\\_met..80. & awards\\_won. & avg\\_training\\_score & is\\_promoted\\\\\n",
       "\\hline\n",
       "\t 65438 & 0     & 0     & 0     & 0     & 0     & 0     & 0     & 1     & 0     & ...   & 0     & 1     & 1     & 35    & 5     &  8    & 1     & 0     & 49    & 0    \\\\\n",
       "\t 65141 & 0     & 0     & 0     & 0     & 1     & 0     & 0     & 0     & 0     & ...   & 0     & 0     & 1     & 30    & 5     &  4    & 0     & 0     & 60    & 0    \\\\\n",
       "\t  7513 & 0     & 0     & 0     & 0     & 0     & 0     & 0     & 1     & 0     & ...   & 0     & 1     & 1     & 34    & 3     &  7    & 0     & 0     & 50    & 0    \\\\\n",
       "\t  2542 & 0     & 0     & 0     & 0     & 0     & 0     & 0     & 1     & 0     & ...   & 0     & 0     & 2     & 39    & 1     & 10    & 0     & 0     & 50    & 0    \\\\\n",
       "\t 48945 & 0     & 0     & 0     & 0     & 0     & 0     & 0     & 0     & 1     & ...   & 0     & 0     & 1     & 45    & 3     &  2    & 0     & 0     & 73    & 0    \\\\\n",
       "\t 58896 & 1     & 0     & 0     & 0     & 0     & 0     & 0     & 0     & 0     & ...   & 0     & 1     & 2     & 31    & 3     &  7    & 0     & 0     & 85    & 0    \\\\\n",
       "\\end{tabular}\n"
      ],
      "text/markdown": [
       "\n",
       "| employee_id | department_Analytics | department_Finance | department_HR | department_Legal | department_Operations | department_Procurement | department_R&D | department_Sales & Marketing | department_Technology | ... | recruitment_channel_referred | recruitment_channel_sourcing | no_of_trainings | age | previous_year_rating | length_of_service | KPIs_met..80. | awards_won. | avg_training_score | is_promoted |\n",
       "|---|---|---|---|---|---|---|---|---|---|---|---|---|---|---|---|---|---|---|---|---|\n",
       "| 65438 | 0     | 0     | 0     | 0     | 0     | 0     | 0     | 1     | 0     | ...   | 0     | 1     | 1     | 35    | 5     |  8    | 1     | 0     | 49    | 0     |\n",
       "| 65141 | 0     | 0     | 0     | 0     | 1     | 0     | 0     | 0     | 0     | ...   | 0     | 0     | 1     | 30    | 5     |  4    | 0     | 0     | 60    | 0     |\n",
       "|  7513 | 0     | 0     | 0     | 0     | 0     | 0     | 0     | 1     | 0     | ...   | 0     | 1     | 1     | 34    | 3     |  7    | 0     | 0     | 50    | 0     |\n",
       "|  2542 | 0     | 0     | 0     | 0     | 0     | 0     | 0     | 1     | 0     | ...   | 0     | 0     | 2     | 39    | 1     | 10    | 0     | 0     | 50    | 0     |\n",
       "| 48945 | 0     | 0     | 0     | 0     | 0     | 0     | 0     | 0     | 1     | ...   | 0     | 0     | 1     | 45    | 3     |  2    | 0     | 0     | 73    | 0     |\n",
       "| 58896 | 1     | 0     | 0     | 0     | 0     | 0     | 0     | 0     | 0     | ...   | 0     | 1     | 2     | 31    | 3     |  7    | 0     | 0     | 85    | 0     |\n",
       "\n"
      ],
      "text/plain": [
       "  employee_id department_Analytics department_Finance department_HR\n",
       "1 65438       0                    0                  0            \n",
       "2 65141       0                    0                  0            \n",
       "3  7513       0                    0                  0            \n",
       "4  2542       0                    0                  0            \n",
       "5 48945       0                    0                  0            \n",
       "6 58896       1                    0                  0            \n",
       "  department_Legal department_Operations department_Procurement department_R&D\n",
       "1 0                0                     0                      0             \n",
       "2 0                1                     0                      0             \n",
       "3 0                0                     0                      0             \n",
       "4 0                0                     0                      0             \n",
       "5 0                0                     0                      0             \n",
       "6 0                0                     0                      0             \n",
       "  department_Sales & Marketing department_Technology ...\n",
       "1 1                            0                     ...\n",
       "2 0                            0                     ...\n",
       "3 1                            0                     ...\n",
       "4 1                            0                     ...\n",
       "5 0                            1                     ...\n",
       "6 0                            0                     ...\n",
       "  recruitment_channel_referred recruitment_channel_sourcing no_of_trainings age\n",
       "1 0                            1                            1               35 \n",
       "2 0                            0                            1               30 \n",
       "3 0                            1                            1               34 \n",
       "4 0                            0                            2               39 \n",
       "5 0                            0                            1               45 \n",
       "6 0                            1                            2               31 \n",
       "  previous_year_rating length_of_service KPIs_met..80. awards_won.\n",
       "1 5                     8                1             0          \n",
       "2 5                     4                0             0          \n",
       "3 3                     7                0             0          \n",
       "4 1                    10                0             0          \n",
       "5 3                     2                0             0          \n",
       "6 3                     7                0             0          \n",
       "  avg_training_score is_promoted\n",
       "1 49                 0          \n",
       "2 60                 0          \n",
       "3 50                 0          \n",
       "4 50                 0          \n",
       "5 73                 0          \n",
       "6 85                 0          "
      ]
     },
     "metadata": {},
     "output_type": "display_data"
    },
    {
     "data": {
      "text/html": [
       "<table>\n",
       "<thead><tr><th></th><th scope=col>employee_id</th><th scope=col>department_Analytics</th><th scope=col>department_Finance</th><th scope=col>department_HR</th><th scope=col>department_Legal</th><th scope=col>department_Operations</th><th scope=col>department_Procurement</th><th scope=col>department_R&amp;D</th><th scope=col>department_Sales &amp; Marketing</th><th scope=col>department_Technology</th><th scope=col>...</th><th scope=col>recruitment_channel_referred</th><th scope=col>recruitment_channel_sourcing</th><th scope=col>no_of_trainings</th><th scope=col>age</th><th scope=col>previous_year_rating</th><th scope=col>length_of_service</th><th scope=col>KPIs_met..80.</th><th scope=col>awards_won.</th><th scope=col>avg_training_score</th><th scope=col>is_promoted</th></tr></thead>\n",
       "<tbody>\n",
       "\t<tr><th scope=row>11</th><td>29934</td><td>0    </td><td>0    </td><td>0    </td><td>0    </td><td>0    </td><td>0    </td><td>0    </td><td>0    </td><td>1    </td><td>...  </td><td>0    </td><td>1    </td><td>1    </td><td>30   </td><td>3    </td><td>1    </td><td>0    </td><td>0    </td><td>77   </td><td>0    </td></tr>\n",
       "\t<tr><th scope=row>15</th><td>77040</td><td>0    </td><td>0    </td><td>0    </td><td>0    </td><td>0    </td><td>0    </td><td>1    </td><td>0    </td><td>0    </td><td>...  </td><td>0    </td><td>1    </td><td>1    </td><td>37   </td><td>3    </td><td>7    </td><td>0    </td><td>0    </td><td>84   </td><td>0    </td></tr>\n",
       "\t<tr><th scope=row>18</th><td> 9403</td><td>0    </td><td>0    </td><td>0    </td><td>0    </td><td>0    </td><td>0    </td><td>0    </td><td>1    </td><td>0    </td><td>...  </td><td>0    </td><td>0    </td><td>1    </td><td>34   </td><td>1    </td><td>4    </td><td>0    </td><td>0    </td><td>51   </td><td>0    </td></tr>\n",
       "\t<tr><th scope=row>23</th><td>58789</td><td>0    </td><td>1    </td><td>0    </td><td>0    </td><td>0    </td><td>0    </td><td>0    </td><td>0    </td><td>0    </td><td>...  </td><td>0    </td><td>0    </td><td>1    </td><td>28   </td><td>3    </td><td>4    </td><td>0    </td><td>0    </td><td>63   </td><td>0    </td></tr>\n",
       "\t<tr><th scope=row>26</th><td>26585</td><td>0    </td><td>0    </td><td>0    </td><td>0    </td><td>0    </td><td>0    </td><td>0    </td><td>0    </td><td>1    </td><td>...  </td><td>0    </td><td>0    </td><td>1    </td><td>27   </td><td>5    </td><td>3    </td><td>1    </td><td>0    </td><td>83   </td><td>0    </td></tr>\n",
       "\t<tr><th scope=row>37</th><td>64062</td><td>0    </td><td>0    </td><td>0    </td><td>0    </td><td>0    </td><td>0    </td><td>0    </td><td>0    </td><td>1    </td><td>...  </td><td>0    </td><td>1    </td><td>1    </td><td>33   </td><td>4    </td><td>4    </td><td>1    </td><td>0    </td><td>75   </td><td>0    </td></tr>\n",
       "</tbody>\n",
       "</table>\n"
      ],
      "text/latex": [
       "\\begin{tabular}{r|lllllllllllllllllllllllllllllllllllllllllllllllllllllllllllll}\n",
       "  & employee\\_id & department\\_Analytics & department\\_Finance & department\\_HR & department\\_Legal & department\\_Operations & department\\_Procurement & department\\_R\\&D & department\\_Sales \\& Marketing & department\\_Technology & ... & recruitment\\_channel\\_referred & recruitment\\_channel\\_sourcing & no\\_of\\_trainings & age & previous\\_year\\_rating & length\\_of\\_service & KPIs\\_met..80. & awards\\_won. & avg\\_training\\_score & is\\_promoted\\\\\n",
       "\\hline\n",
       "\t11 & 29934 & 0     & 0     & 0     & 0     & 0     & 0     & 0     & 0     & 1     & ...   & 0     & 1     & 1     & 30    & 3     & 1     & 0     & 0     & 77    & 0    \\\\\n",
       "\t15 & 77040 & 0     & 0     & 0     & 0     & 0     & 0     & 1     & 0     & 0     & ...   & 0     & 1     & 1     & 37    & 3     & 7     & 0     & 0     & 84    & 0    \\\\\n",
       "\t18 &  9403 & 0     & 0     & 0     & 0     & 0     & 0     & 0     & 1     & 0     & ...   & 0     & 0     & 1     & 34    & 1     & 4     & 0     & 0     & 51    & 0    \\\\\n",
       "\t23 & 58789 & 0     & 1     & 0     & 0     & 0     & 0     & 0     & 0     & 0     & ...   & 0     & 0     & 1     & 28    & 3     & 4     & 0     & 0     & 63    & 0    \\\\\n",
       "\t26 & 26585 & 0     & 0     & 0     & 0     & 0     & 0     & 0     & 0     & 1     & ...   & 0     & 0     & 1     & 27    & 5     & 3     & 1     & 0     & 83    & 0    \\\\\n",
       "\t37 & 64062 & 0     & 0     & 0     & 0     & 0     & 0     & 0     & 0     & 1     & ...   & 0     & 1     & 1     & 33    & 4     & 4     & 1     & 0     & 75    & 0    \\\\\n",
       "\\end{tabular}\n"
      ],
      "text/markdown": [
       "\n",
       "| <!--/--> | employee_id | department_Analytics | department_Finance | department_HR | department_Legal | department_Operations | department_Procurement | department_R&D | department_Sales & Marketing | department_Technology | ... | recruitment_channel_referred | recruitment_channel_sourcing | no_of_trainings | age | previous_year_rating | length_of_service | KPIs_met..80. | awards_won. | avg_training_score | is_promoted |\n",
       "|---|---|---|---|---|---|---|---|---|---|---|---|---|---|---|---|---|---|---|---|---|---|\n",
       "| 11 | 29934 | 0     | 0     | 0     | 0     | 0     | 0     | 0     | 0     | 1     | ...   | 0     | 1     | 1     | 30    | 3     | 1     | 0     | 0     | 77    | 0     |\n",
       "| 15 | 77040 | 0     | 0     | 0     | 0     | 0     | 0     | 1     | 0     | 0     | ...   | 0     | 1     | 1     | 37    | 3     | 7     | 0     | 0     | 84    | 0     |\n",
       "| 18 |  9403 | 0     | 0     | 0     | 0     | 0     | 0     | 0     | 1     | 0     | ...   | 0     | 0     | 1     | 34    | 1     | 4     | 0     | 0     | 51    | 0     |\n",
       "| 23 | 58789 | 0     | 1     | 0     | 0     | 0     | 0     | 0     | 0     | 0     | ...   | 0     | 0     | 1     | 28    | 3     | 4     | 0     | 0     | 63    | 0     |\n",
       "| 26 | 26585 | 0     | 0     | 0     | 0     | 0     | 0     | 0     | 0     | 1     | ...   | 0     | 0     | 1     | 27    | 5     | 3     | 1     | 0     | 83    | 0     |\n",
       "| 37 | 64062 | 0     | 0     | 0     | 0     | 0     | 0     | 0     | 0     | 1     | ...   | 0     | 1     | 1     | 33    | 4     | 4     | 1     | 0     | 75    | 0     |\n",
       "\n"
      ],
      "text/plain": [
       "   employee_id department_Analytics department_Finance department_HR\n",
       "11 29934       0                    0                  0            \n",
       "15 77040       0                    0                  0            \n",
       "18  9403       0                    0                  0            \n",
       "23 58789       0                    1                  0            \n",
       "26 26585       0                    0                  0            \n",
       "37 64062       0                    0                  0            \n",
       "   department_Legal department_Operations department_Procurement department_R&D\n",
       "11 0                0                     0                      0             \n",
       "15 0                0                     0                      1             \n",
       "18 0                0                     0                      0             \n",
       "23 0                0                     0                      0             \n",
       "26 0                0                     0                      0             \n",
       "37 0                0                     0                      0             \n",
       "   department_Sales & Marketing department_Technology ...\n",
       "11 0                            1                     ...\n",
       "15 0                            0                     ...\n",
       "18 1                            0                     ...\n",
       "23 0                            0                     ...\n",
       "26 0                            1                     ...\n",
       "37 0                            1                     ...\n",
       "   recruitment_channel_referred recruitment_channel_sourcing no_of_trainings\n",
       "11 0                            1                            1              \n",
       "15 0                            1                            1              \n",
       "18 0                            0                            1              \n",
       "23 0                            0                            1              \n",
       "26 0                            0                            1              \n",
       "37 0                            1                            1              \n",
       "   age previous_year_rating length_of_service KPIs_met..80. awards_won.\n",
       "11 30  3                    1                 0             0          \n",
       "15 37  3                    7                 0             0          \n",
       "18 34  1                    4                 0             0          \n",
       "23 28  3                    4                 0             0          \n",
       "26 27  5                    3                 1             0          \n",
       "37 33  4                    4                 1             0          \n",
       "   avg_training_score is_promoted\n",
       "11 77                 0          \n",
       "15 84                 0          \n",
       "18 51                 0          \n",
       "23 63                 0          \n",
       "26 83                 0          \n",
       "37 75                 0          "
      ]
     },
     "metadata": {},
     "output_type": "display_data"
    }
   ],
   "source": [
    "head(training_set)\n",
    "head(test_set)"
   ]
  },
  {
   "cell_type": "markdown",
   "metadata": {},
   "source": [
    "### Decission tree"
   ]
  },
  {
   "cell_type": "code",
   "execution_count": 34,
   "metadata": {},
   "outputs": [],
   "source": [
    "library(rpart)"
   ]
  },
  {
   "cell_type": "code",
   "execution_count": 32,
   "metadata": {},
   "outputs": [
    {
     "data": {
      "text/html": [
       "<table>\n",
       "<thead><tr><th scope=col>employee_id</th><th scope=col>department_Analytics</th><th scope=col>department_Finance</th><th scope=col>department_HR</th><th scope=col>department_Legal</th><th scope=col>department_Operations</th><th scope=col>department_Procurement</th><th scope=col>department_R&amp;D</th><th scope=col>department_Sales &amp; Marketing</th><th scope=col>department_Technology</th><th scope=col>...</th><th scope=col>recruitment_channel_referred</th><th scope=col>recruitment_channel_sourcing</th><th scope=col>no_of_trainings</th><th scope=col>age</th><th scope=col>previous_year_rating</th><th scope=col>length_of_service</th><th scope=col>KPIs_met..80.</th><th scope=col>awards_won.</th><th scope=col>avg_training_score</th><th scope=col>is_promoted</th></tr></thead>\n",
       "<tbody>\n",
       "\t<tr><td> 1.1655165 </td><td>-0.3314003 </td><td>-0.2191886 </td><td>-0.215564  </td><td>-0.1396711 </td><td>-0.5102303 </td><td>-0.3856161 </td><td>-0.1365845 </td><td> 1.5011140 </td><td>-0.3864741 </td><td>...        </td><td>-0.1450083 </td><td> 1.1681297 </td><td>-0.4156664 </td><td> 0.02415738</td><td> 1.3914257 </td><td> 0.5012886 </td><td> 1.3517667 </td><td>-0.1539391 </td><td>-1.0755650 </td><td>0          </td></tr>\n",
       "\t<tr><td> 1.1523182 </td><td>-0.3314003 </td><td>-0.2191886 </td><td>-0.215564  </td><td>-0.1396711 </td><td> 1.9598545 </td><td>-0.3856161 </td><td>-0.1365845 </td><td>-0.6661567 </td><td>-0.3864741 </td><td>...        </td><td>-0.1450083 </td><td>-0.8560498 </td><td>-0.4156664 </td><td>-0.62717981</td><td> 1.3914257 </td><td>-0.4371340 </td><td>-0.7397557 </td><td>-0.1539391 </td><td>-0.2545440 </td><td>0          </td></tr>\n",
       "\t<tr><td>-1.4085833 </td><td>-0.3314003 </td><td>-0.2191886 </td><td>-0.215564  </td><td>-0.1396711 </td><td>-0.5102303 </td><td>-0.3856161 </td><td>-0.1365845 </td><td> 1.5011140 </td><td>-0.3864741 </td><td>...        </td><td>-0.1450083 </td><td> 1.1681297 </td><td>-0.4156664 </td><td>-0.10611006</td><td>-0.2525638 </td><td> 0.2666829 </td><td>-0.7397557 </td><td>-0.1539391 </td><td>-1.0009268 </td><td>0          </td></tr>\n",
       "\t<tr><td>-1.6294871 </td><td>-0.3314003 </td><td>-0.2191886 </td><td>-0.215564  </td><td>-0.1396711 </td><td>-0.5102303 </td><td>-0.3856161 </td><td>-0.1365845 </td><td> 1.5011140 </td><td>-0.3864741 </td><td>...        </td><td>-0.1450083 </td><td>-0.8560498 </td><td> 1.2323406 </td><td> 0.54522713</td><td>-1.8965533 </td><td> 0.9704998 </td><td>-0.7397557 </td><td>-0.1539391 </td><td>-1.0009268 </td><td>0          </td></tr>\n",
       "\t<tr><td> 0.4325924 </td><td>-0.3314003 </td><td>-0.2191886 </td><td>-0.215564  </td><td>-0.1396711 </td><td>-0.5102303 </td><td>-0.3856161 </td><td>-0.1365845 </td><td>-0.6661567 </td><td> 2.5874366 </td><td>...        </td><td>-0.1450083 </td><td>-0.8560498 </td><td>-0.4156664 </td><td> 1.32683176</td><td>-0.2525638 </td><td>-0.9063452 </td><td>-0.7397557 </td><td>-0.1539391 </td><td> 0.7157536 </td><td>0          </td></tr>\n",
       "\t<tr><td> 0.8747999 </td><td> 3.0174303 </td><td>-0.2191886 </td><td>-0.215564  </td><td>-0.1396711 </td><td>-0.5102303 </td><td>-0.3856161 </td><td>-0.1365845 </td><td>-0.6661567 </td><td>-0.3864741 </td><td>...        </td><td>-0.1450083 </td><td> 1.1681297 </td><td> 1.2323406 </td><td>-0.49691237</td><td>-0.2525638 </td><td> 0.2666829 </td><td>-0.7397557 </td><td>-0.1539391 </td><td> 1.6114129 </td><td>0          </td></tr>\n",
       "</tbody>\n",
       "</table>\n"
      ],
      "text/latex": [
       "\\begin{tabular}{r|lllllllllllllllllllllllllllllllllllllllllllllllllllllllllllll}\n",
       " employee\\_id & department\\_Analytics & department\\_Finance & department\\_HR & department\\_Legal & department\\_Operations & department\\_Procurement & department\\_R\\&D & department\\_Sales \\& Marketing & department\\_Technology & ... & recruitment\\_channel\\_referred & recruitment\\_channel\\_sourcing & no\\_of\\_trainings & age & previous\\_year\\_rating & length\\_of\\_service & KPIs\\_met..80. & awards\\_won. & avg\\_training\\_score & is\\_promoted\\\\\n",
       "\\hline\n",
       "\t  1.1655165  & -0.3314003  & -0.2191886  & -0.215564   & -0.1396711  & -0.5102303  & -0.3856161  & -0.1365845  &  1.5011140  & -0.3864741  & ...         & -0.1450083  &  1.1681297  & -0.4156664  &  0.02415738 &  1.3914257  &  0.5012886  &  1.3517667  & -0.1539391  & -1.0755650  & 0          \\\\\n",
       "\t  1.1523182  & -0.3314003  & -0.2191886  & -0.215564   & -0.1396711  &  1.9598545  & -0.3856161  & -0.1365845  & -0.6661567  & -0.3864741  & ...         & -0.1450083  & -0.8560498  & -0.4156664  & -0.62717981 &  1.3914257  & -0.4371340  & -0.7397557  & -0.1539391  & -0.2545440  & 0          \\\\\n",
       "\t -1.4085833  & -0.3314003  & -0.2191886  & -0.215564   & -0.1396711  & -0.5102303  & -0.3856161  & -0.1365845  &  1.5011140  & -0.3864741  & ...         & -0.1450083  &  1.1681297  & -0.4156664  & -0.10611006 & -0.2525638  &  0.2666829  & -0.7397557  & -0.1539391  & -1.0009268  & 0          \\\\\n",
       "\t -1.6294871  & -0.3314003  & -0.2191886  & -0.215564   & -0.1396711  & -0.5102303  & -0.3856161  & -0.1365845  &  1.5011140  & -0.3864741  & ...         & -0.1450083  & -0.8560498  &  1.2323406  &  0.54522713 & -1.8965533  &  0.9704998  & -0.7397557  & -0.1539391  & -1.0009268  & 0          \\\\\n",
       "\t  0.4325924  & -0.3314003  & -0.2191886  & -0.215564   & -0.1396711  & -0.5102303  & -0.3856161  & -0.1365845  & -0.6661567  &  2.5874366  & ...         & -0.1450083  & -0.8560498  & -0.4156664  &  1.32683176 & -0.2525638  & -0.9063452  & -0.7397557  & -0.1539391  &  0.7157536  & 0          \\\\\n",
       "\t  0.8747999  &  3.0174303  & -0.2191886  & -0.215564   & -0.1396711  & -0.5102303  & -0.3856161  & -0.1365845  & -0.6661567  & -0.3864741  & ...         & -0.1450083  &  1.1681297  &  1.2323406  & -0.49691237 & -0.2525638  &  0.2666829  & -0.7397557  & -0.1539391  &  1.6114129  & 0          \\\\\n",
       "\\end{tabular}\n"
      ],
      "text/markdown": [
       "\n",
       "| employee_id | department_Analytics | department_Finance | department_HR | department_Legal | department_Operations | department_Procurement | department_R&D | department_Sales & Marketing | department_Technology | ... | recruitment_channel_referred | recruitment_channel_sourcing | no_of_trainings | age | previous_year_rating | length_of_service | KPIs_met..80. | awards_won. | avg_training_score | is_promoted |\n",
       "|---|---|---|---|---|---|---|---|---|---|---|---|---|---|---|---|---|---|---|---|---|\n",
       "|  1.1655165  | -0.3314003  | -0.2191886  | -0.215564   | -0.1396711  | -0.5102303  | -0.3856161  | -0.1365845  |  1.5011140  | -0.3864741  | ...         | -0.1450083  |  1.1681297  | -0.4156664  |  0.02415738 |  1.3914257  |  0.5012886  |  1.3517667  | -0.1539391  | -1.0755650  | 0           |\n",
       "|  1.1523182  | -0.3314003  | -0.2191886  | -0.215564   | -0.1396711  |  1.9598545  | -0.3856161  | -0.1365845  | -0.6661567  | -0.3864741  | ...         | -0.1450083  | -0.8560498  | -0.4156664  | -0.62717981 |  1.3914257  | -0.4371340  | -0.7397557  | -0.1539391  | -0.2545440  | 0           |\n",
       "| -1.4085833  | -0.3314003  | -0.2191886  | -0.215564   | -0.1396711  | -0.5102303  | -0.3856161  | -0.1365845  |  1.5011140  | -0.3864741  | ...         | -0.1450083  |  1.1681297  | -0.4156664  | -0.10611006 | -0.2525638  |  0.2666829  | -0.7397557  | -0.1539391  | -1.0009268  | 0           |\n",
       "| -1.6294871  | -0.3314003  | -0.2191886  | -0.215564   | -0.1396711  | -0.5102303  | -0.3856161  | -0.1365845  |  1.5011140  | -0.3864741  | ...         | -0.1450083  | -0.8560498  |  1.2323406  |  0.54522713 | -1.8965533  |  0.9704998  | -0.7397557  | -0.1539391  | -1.0009268  | 0           |\n",
       "|  0.4325924  | -0.3314003  | -0.2191886  | -0.215564   | -0.1396711  | -0.5102303  | -0.3856161  | -0.1365845  | -0.6661567  |  2.5874366  | ...         | -0.1450083  | -0.8560498  | -0.4156664  |  1.32683176 | -0.2525638  | -0.9063452  | -0.7397557  | -0.1539391  |  0.7157536  | 0           |\n",
       "|  0.8747999  |  3.0174303  | -0.2191886  | -0.215564   | -0.1396711  | -0.5102303  | -0.3856161  | -0.1365845  | -0.6661567  | -0.3864741  | ...         | -0.1450083  |  1.1681297  |  1.2323406  | -0.49691237 | -0.2525638  |  0.2666829  | -0.7397557  | -0.1539391  |  1.6114129  | 0           |\n",
       "\n"
      ],
      "text/plain": [
       "  employee_id department_Analytics department_Finance department_HR\n",
       "1  1.1655165  -0.3314003           -0.2191886         -0.215564    \n",
       "2  1.1523182  -0.3314003           -0.2191886         -0.215564    \n",
       "3 -1.4085833  -0.3314003           -0.2191886         -0.215564    \n",
       "4 -1.6294871  -0.3314003           -0.2191886         -0.215564    \n",
       "5  0.4325924  -0.3314003           -0.2191886         -0.215564    \n",
       "6  0.8747999   3.0174303           -0.2191886         -0.215564    \n",
       "  department_Legal department_Operations department_Procurement department_R&D\n",
       "1 -0.1396711       -0.5102303            -0.3856161             -0.1365845    \n",
       "2 -0.1396711        1.9598545            -0.3856161             -0.1365845    \n",
       "3 -0.1396711       -0.5102303            -0.3856161             -0.1365845    \n",
       "4 -0.1396711       -0.5102303            -0.3856161             -0.1365845    \n",
       "5 -0.1396711       -0.5102303            -0.3856161             -0.1365845    \n",
       "6 -0.1396711       -0.5102303            -0.3856161             -0.1365845    \n",
       "  department_Sales & Marketing department_Technology ...\n",
       "1  1.5011140                   -0.3864741            ...\n",
       "2 -0.6661567                   -0.3864741            ...\n",
       "3  1.5011140                   -0.3864741            ...\n",
       "4  1.5011140                   -0.3864741            ...\n",
       "5 -0.6661567                    2.5874366            ...\n",
       "6 -0.6661567                   -0.3864741            ...\n",
       "  recruitment_channel_referred recruitment_channel_sourcing no_of_trainings\n",
       "1 -0.1450083                    1.1681297                   -0.4156664     \n",
       "2 -0.1450083                   -0.8560498                   -0.4156664     \n",
       "3 -0.1450083                    1.1681297                   -0.4156664     \n",
       "4 -0.1450083                   -0.8560498                    1.2323406     \n",
       "5 -0.1450083                   -0.8560498                   -0.4156664     \n",
       "6 -0.1450083                    1.1681297                    1.2323406     \n",
       "  age         previous_year_rating length_of_service KPIs_met..80. awards_won.\n",
       "1  0.02415738  1.3914257            0.5012886         1.3517667    -0.1539391 \n",
       "2 -0.62717981  1.3914257           -0.4371340        -0.7397557    -0.1539391 \n",
       "3 -0.10611006 -0.2525638            0.2666829        -0.7397557    -0.1539391 \n",
       "4  0.54522713 -1.8965533            0.9704998        -0.7397557    -0.1539391 \n",
       "5  1.32683176 -0.2525638           -0.9063452        -0.7397557    -0.1539391 \n",
       "6 -0.49691237 -0.2525638            0.2666829        -0.7397557    -0.1539391 \n",
       "  avg_training_score is_promoted\n",
       "1 -1.0755650         0          \n",
       "2 -0.2545440         0          \n",
       "3 -1.0009268         0          \n",
       "4 -1.0009268         0          \n",
       "5  0.7157536         0          \n",
       "6  1.6114129         0          "
      ]
     },
     "metadata": {},
     "output_type": "display_data"
    },
    {
     "data": {
      "text/html": [
       "<table>\n",
       "<thead><tr><th></th><th scope=col>employee_id</th><th scope=col>department_Analytics</th><th scope=col>department_Finance</th><th scope=col>department_HR</th><th scope=col>department_Legal</th><th scope=col>department_Operations</th><th scope=col>department_Procurement</th><th scope=col>department_R&amp;D</th><th scope=col>department_Sales &amp; Marketing</th><th scope=col>department_Technology</th><th scope=col>...</th><th scope=col>recruitment_channel_referred</th><th scope=col>recruitment_channel_sourcing</th><th scope=col>no_of_trainings</th><th scope=col>age</th><th scope=col>previous_year_rating</th><th scope=col>length_of_service</th><th scope=col>KPIs_met..80.</th><th scope=col>awards_won.</th><th scope=col>avg_training_score</th><th scope=col>is_promoted</th></tr></thead>\n",
       "<tbody>\n",
       "\t<tr><th scope=row>11</th><td>-0.4015790 </td><td>-0.3190768 </td><td>-0.2244947 </td><td>-0.2118762 </td><td>-0.1363166 </td><td>-0.5139941 </td><td>-0.3922763 </td><td>-0.1349215 </td><td>-0.6652202 </td><td> 2.5713609 </td><td>...        </td><td>-0.1492867 </td><td> 1.1591754 </td><td>-0.4137815 </td><td>-0.6269370 </td><td>-0.2429416 </td><td>-1.1400286 </td><td>-0.7258826 </td><td>-0.1543179 </td><td> 1.03332357</td><td>0          </td></tr>\n",
       "\t<tr><th scope=row>15</th><td> 1.6537696 </td><td>-0.3190768 </td><td>-0.2244947 </td><td>-0.2118762 </td><td>-0.1363166 </td><td>-0.5139941 </td><td>-0.3922763 </td><td> 7.4110432 </td><td>-0.6652202 </td><td>-0.3888636 </td><td>...        </td><td>-0.1492867 </td><td> 1.1591754 </td><td>-0.4137815 </td><td> 0.2947663 </td><td>-0.2429416 </td><td> 0.2632345 </td><td>-0.7258826 </td><td>-0.1543179 </td><td> 1.56100186</td><td>0          </td></tr>\n",
       "\t<tr><th scope=row>18</th><td>-1.2973961 </td><td>-0.3190768 </td><td>-0.2244947 </td><td>-0.2118762 </td><td>-0.1363166 </td><td>-0.5139941 </td><td>-0.3922763 </td><td>-0.1349215 </td><td> 1.5031246 </td><td>-0.3888636 </td><td>...        </td><td>-0.1492867 </td><td>-0.8626035 </td><td>-0.4137815 </td><td>-0.1002494 </td><td>-1.8991141 </td><td>-0.4383970 </td><td>-0.7258826 </td><td>-0.1543179 </td><td>-0.92662437</td><td>0          </td></tr>\n",
       "\t<tr><th scope=row>23</th><td> 0.8574344 </td><td>-0.3190768 </td><td> 4.4540425 </td><td>-0.2118762 </td><td>-0.1363166 </td><td>-0.5139941 </td><td>-0.3922763 </td><td>-0.1349215 </td><td>-0.6652202 </td><td>-0.3888636 </td><td>...        </td><td>-0.1492867 </td><td>-0.8626035 </td><td>-0.4137815 </td><td>-0.8902808 </td><td>-0.2429416 </td><td>-0.4383970 </td><td>-0.7258826 </td><td>-0.1543179 </td><td>-0.02203301</td><td>0          </td></tr>\n",
       "\t<tr><th scope=row>26</th><td>-0.5477040 </td><td>-0.3190768 </td><td>-0.2244947 </td><td>-0.2118762 </td><td>-0.1363166 </td><td>-0.5139941 </td><td>-0.3922763 </td><td>-0.1349215 </td><td>-0.6652202 </td><td> 2.5713609 </td><td>...        </td><td>-0.1492867 </td><td>-0.8626035 </td><td>-0.4137815 </td><td>-1.0219528 </td><td> 1.4132309 </td><td>-0.6722742 </td><td> 1.3775076 </td><td>-0.1543179 </td><td> 1.48561924</td><td>0          </td></tr>\n",
       "\t<tr><th scope=row>37</th><td> 1.0875081 </td><td>-0.3190768 </td><td>-0.2244947 </td><td>-0.2118762 </td><td>-0.1363166 </td><td>-0.5139941 </td><td>-0.3922763 </td><td>-0.1349215 </td><td>-0.6652202 </td><td> 2.5713609 </td><td>...        </td><td>-0.1492867 </td><td> 1.1591754 </td><td>-0.4137815 </td><td>-0.2319213 </td><td> 0.5851447 </td><td>-0.4383970 </td><td> 1.3775076 </td><td>-0.1543179 </td><td> 0.88255834</td><td>0          </td></tr>\n",
       "</tbody>\n",
       "</table>\n"
      ],
      "text/latex": [
       "\\begin{tabular}{r|lllllllllllllllllllllllllllllllllllllllllllllllllllllllllllll}\n",
       "  & employee\\_id & department\\_Analytics & department\\_Finance & department\\_HR & department\\_Legal & department\\_Operations & department\\_Procurement & department\\_R\\&D & department\\_Sales \\& Marketing & department\\_Technology & ... & recruitment\\_channel\\_referred & recruitment\\_channel\\_sourcing & no\\_of\\_trainings & age & previous\\_year\\_rating & length\\_of\\_service & KPIs\\_met..80. & awards\\_won. & avg\\_training\\_score & is\\_promoted\\\\\n",
       "\\hline\n",
       "\t11 & -0.4015790  & -0.3190768  & -0.2244947  & -0.2118762  & -0.1363166  & -0.5139941  & -0.3922763  & -0.1349215  & -0.6652202  &  2.5713609  & ...         & -0.1492867  &  1.1591754  & -0.4137815  & -0.6269370  & -0.2429416  & -1.1400286  & -0.7258826  & -0.1543179  &  1.03332357 & 0          \\\\\n",
       "\t15 &  1.6537696  & -0.3190768  & -0.2244947  & -0.2118762  & -0.1363166  & -0.5139941  & -0.3922763  &  7.4110432  & -0.6652202  & -0.3888636  & ...         & -0.1492867  &  1.1591754  & -0.4137815  &  0.2947663  & -0.2429416  &  0.2632345  & -0.7258826  & -0.1543179  &  1.56100186 & 0          \\\\\n",
       "\t18 & -1.2973961  & -0.3190768  & -0.2244947  & -0.2118762  & -0.1363166  & -0.5139941  & -0.3922763  & -0.1349215  &  1.5031246  & -0.3888636  & ...         & -0.1492867  & -0.8626035  & -0.4137815  & -0.1002494  & -1.8991141  & -0.4383970  & -0.7258826  & -0.1543179  & -0.92662437 & 0          \\\\\n",
       "\t23 &  0.8574344  & -0.3190768  &  4.4540425  & -0.2118762  & -0.1363166  & -0.5139941  & -0.3922763  & -0.1349215  & -0.6652202  & -0.3888636  & ...         & -0.1492867  & -0.8626035  & -0.4137815  & -0.8902808  & -0.2429416  & -0.4383970  & -0.7258826  & -0.1543179  & -0.02203301 & 0          \\\\\n",
       "\t26 & -0.5477040  & -0.3190768  & -0.2244947  & -0.2118762  & -0.1363166  & -0.5139941  & -0.3922763  & -0.1349215  & -0.6652202  &  2.5713609  & ...         & -0.1492867  & -0.8626035  & -0.4137815  & -1.0219528  &  1.4132309  & -0.6722742  &  1.3775076  & -0.1543179  &  1.48561924 & 0          \\\\\n",
       "\t37 &  1.0875081  & -0.3190768  & -0.2244947  & -0.2118762  & -0.1363166  & -0.5139941  & -0.3922763  & -0.1349215  & -0.6652202  &  2.5713609  & ...         & -0.1492867  &  1.1591754  & -0.4137815  & -0.2319213  &  0.5851447  & -0.4383970  &  1.3775076  & -0.1543179  &  0.88255834 & 0          \\\\\n",
       "\\end{tabular}\n"
      ],
      "text/markdown": [
       "\n",
       "| <!--/--> | employee_id | department_Analytics | department_Finance | department_HR | department_Legal | department_Operations | department_Procurement | department_R&D | department_Sales & Marketing | department_Technology | ... | recruitment_channel_referred | recruitment_channel_sourcing | no_of_trainings | age | previous_year_rating | length_of_service | KPIs_met..80. | awards_won. | avg_training_score | is_promoted |\n",
       "|---|---|---|---|---|---|---|---|---|---|---|---|---|---|---|---|---|---|---|---|---|---|\n",
       "| 11 | -0.4015790  | -0.3190768  | -0.2244947  | -0.2118762  | -0.1363166  | -0.5139941  | -0.3922763  | -0.1349215  | -0.6652202  |  2.5713609  | ...         | -0.1492867  |  1.1591754  | -0.4137815  | -0.6269370  | -0.2429416  | -1.1400286  | -0.7258826  | -0.1543179  |  1.03332357 | 0           |\n",
       "| 15 |  1.6537696  | -0.3190768  | -0.2244947  | -0.2118762  | -0.1363166  | -0.5139941  | -0.3922763  |  7.4110432  | -0.6652202  | -0.3888636  | ...         | -0.1492867  |  1.1591754  | -0.4137815  |  0.2947663  | -0.2429416  |  0.2632345  | -0.7258826  | -0.1543179  |  1.56100186 | 0           |\n",
       "| 18 | -1.2973961  | -0.3190768  | -0.2244947  | -0.2118762  | -0.1363166  | -0.5139941  | -0.3922763  | -0.1349215  |  1.5031246  | -0.3888636  | ...         | -0.1492867  | -0.8626035  | -0.4137815  | -0.1002494  | -1.8991141  | -0.4383970  | -0.7258826  | -0.1543179  | -0.92662437 | 0           |\n",
       "| 23 |  0.8574344  | -0.3190768  |  4.4540425  | -0.2118762  | -0.1363166  | -0.5139941  | -0.3922763  | -0.1349215  | -0.6652202  | -0.3888636  | ...         | -0.1492867  | -0.8626035  | -0.4137815  | -0.8902808  | -0.2429416  | -0.4383970  | -0.7258826  | -0.1543179  | -0.02203301 | 0           |\n",
       "| 26 | -0.5477040  | -0.3190768  | -0.2244947  | -0.2118762  | -0.1363166  | -0.5139941  | -0.3922763  | -0.1349215  | -0.6652202  |  2.5713609  | ...         | -0.1492867  | -0.8626035  | -0.4137815  | -1.0219528  |  1.4132309  | -0.6722742  |  1.3775076  | -0.1543179  |  1.48561924 | 0           |\n",
       "| 37 |  1.0875081  | -0.3190768  | -0.2244947  | -0.2118762  | -0.1363166  | -0.5139941  | -0.3922763  | -0.1349215  | -0.6652202  |  2.5713609  | ...         | -0.1492867  |  1.1591754  | -0.4137815  | -0.2319213  |  0.5851447  | -0.4383970  |  1.3775076  | -0.1543179  |  0.88255834 | 0           |\n",
       "\n"
      ],
      "text/plain": [
       "   employee_id department_Analytics department_Finance department_HR\n",
       "11 -0.4015790  -0.3190768           -0.2244947         -0.2118762   \n",
       "15  1.6537696  -0.3190768           -0.2244947         -0.2118762   \n",
       "18 -1.2973961  -0.3190768           -0.2244947         -0.2118762   \n",
       "23  0.8574344  -0.3190768            4.4540425         -0.2118762   \n",
       "26 -0.5477040  -0.3190768           -0.2244947         -0.2118762   \n",
       "37  1.0875081  -0.3190768           -0.2244947         -0.2118762   \n",
       "   department_Legal department_Operations department_Procurement department_R&D\n",
       "11 -0.1363166       -0.5139941            -0.3922763             -0.1349215    \n",
       "15 -0.1363166       -0.5139941            -0.3922763              7.4110432    \n",
       "18 -0.1363166       -0.5139941            -0.3922763             -0.1349215    \n",
       "23 -0.1363166       -0.5139941            -0.3922763             -0.1349215    \n",
       "26 -0.1363166       -0.5139941            -0.3922763             -0.1349215    \n",
       "37 -0.1363166       -0.5139941            -0.3922763             -0.1349215    \n",
       "   department_Sales & Marketing department_Technology ...\n",
       "11 -0.6652202                    2.5713609            ...\n",
       "15 -0.6652202                   -0.3888636            ...\n",
       "18  1.5031246                   -0.3888636            ...\n",
       "23 -0.6652202                   -0.3888636            ...\n",
       "26 -0.6652202                    2.5713609            ...\n",
       "37 -0.6652202                    2.5713609            ...\n",
       "   recruitment_channel_referred recruitment_channel_sourcing no_of_trainings\n",
       "11 -0.1492867                    1.1591754                   -0.4137815     \n",
       "15 -0.1492867                    1.1591754                   -0.4137815     \n",
       "18 -0.1492867                   -0.8626035                   -0.4137815     \n",
       "23 -0.1492867                   -0.8626035                   -0.4137815     \n",
       "26 -0.1492867                   -0.8626035                   -0.4137815     \n",
       "37 -0.1492867                    1.1591754                   -0.4137815     \n",
       "   age        previous_year_rating length_of_service KPIs_met..80. awards_won.\n",
       "11 -0.6269370 -0.2429416           -1.1400286        -0.7258826    -0.1543179 \n",
       "15  0.2947663 -0.2429416            0.2632345        -0.7258826    -0.1543179 \n",
       "18 -0.1002494 -1.8991141           -0.4383970        -0.7258826    -0.1543179 \n",
       "23 -0.8902808 -0.2429416           -0.4383970        -0.7258826    -0.1543179 \n",
       "26 -1.0219528  1.4132309           -0.6722742         1.3775076    -0.1543179 \n",
       "37 -0.2319213  0.5851447           -0.4383970         1.3775076    -0.1543179 \n",
       "   avg_training_score is_promoted\n",
       "11  1.03332357        0          \n",
       "15  1.56100186        0          \n",
       "18 -0.92662437        0          \n",
       "23 -0.02203301        0          \n",
       "26  1.48561924        0          \n",
       "37  0.88255834        0          "
      ]
     },
     "metadata": {},
     "output_type": "display_data"
    }
   ],
   "source": [
    "trainDT <- training_set\n",
    "trainDT[-61] <- scale(trainDT[-61])\n",
    "testDT <- test_set\n",
    "testDT[-61] <- scale(testDT[-61])\n",
    "head(trainDT)\n",
    "head(testDT)"
   ]
  },
  {
   "cell_type": "code",
   "execution_count": 47,
   "metadata": {},
   "outputs": [],
   "source": [
    "classifierDT <- rpart(is_promoted ~ .,data=trainDT)"
   ]
  },
  {
   "cell_type": "code",
   "execution_count": 48,
   "metadata": {},
   "outputs": [],
   "source": [
    "predDT = predict(classifierDT, newdata = testDT[-61])"
   ]
  },
  {
   "cell_type": "code",
   "execution_count": 49,
   "metadata": {
    "scrolled": true
   },
   "outputs": [
    {
     "data": {
      "text/html": [
       "<dl class=dl-horizontal>\n",
       "\t<dt>11</dt>\n",
       "\t\t<dd>0</dd>\n",
       "\t<dt>15</dt>\n",
       "\t\t<dd>0</dd>\n",
       "\t<dt>18</dt>\n",
       "\t\t<dd>0</dd>\n",
       "\t<dt>23</dt>\n",
       "\t\t<dd>0</dd>\n",
       "\t<dt>26</dt>\n",
       "\t\t<dd>0</dd>\n",
       "\t<dt>37</dt>\n",
       "\t\t<dd>0</dd>\n",
       "</dl>\n"
      ],
      "text/latex": [
       "\\begin{description*}\n",
       "\\item[11] 0\n",
       "\\item[15] 0\n",
       "\\item[18] 0\n",
       "\\item[23] 0\n",
       "\\item[26] 0\n",
       "\\item[37] 0\n",
       "\\end{description*}\n"
      ],
      "text/markdown": [
       "11\n",
       ":   015\n",
       ":   018\n",
       ":   023\n",
       ":   026\n",
       ":   037\n",
       ":   0\n",
       "\n"
      ],
      "text/plain": [
       "11 15 18 23 26 37 \n",
       " 0  0  0  0  0  0 "
      ]
     },
     "metadata": {},
     "output_type": "display_data"
    }
   ],
   "source": [
    "predDT <- ifelse (predDT > 0.5,1,0)\n",
    "head(predDT)"
   ]
  },
  {
   "cell_type": "code",
   "execution_count": 59,
   "metadata": {},
   "outputs": [
    {
     "data": {
      "text/plain": [
       "Confusion Matrix and Statistics\n",
       "\n",
       "          Reference\n",
       "Prediction     0     1\n",
       "         0 10014    14\n",
       "         1   802   132\n",
       "                                          \n",
       "               Accuracy : 0.9256          \n",
       "                 95% CI : (0.9205, 0.9304)\n",
       "    No Information Rate : 0.9867          \n",
       "    P-Value [Acc > NIR] : 1               \n",
       "                                          \n",
       "                  Kappa : 0.2266          \n",
       "                                          \n",
       " Mcnemar's Test P-Value : <2e-16          \n",
       "                                          \n",
       "            Sensitivity : 0.9259          \n",
       "            Specificity : 0.9041          \n",
       "         Pos Pred Value : 0.9986          \n",
       "         Neg Pred Value : 0.1413          \n",
       "             Prevalence : 0.9867          \n",
       "         Detection Rate : 0.9135          \n",
       "   Detection Prevalence : 0.9148          \n",
       "      Balanced Accuracy : 0.9150          \n",
       "                                          \n",
       "       'Positive' Class : 0               \n",
       "                                          "
      ]
     },
     "metadata": {},
     "output_type": "display_data"
    }
   ],
   "source": [
    "library(caret)\n",
    "actual <- as.factor(testDT$is_promoted)\n",
    "predict <- as.factor(predDT)\n",
    "confusionMatrix(actual,predict)"
   ]
  },
  {
   "cell_type": "markdown",
   "metadata": {},
   "source": [
    "#### Accuracy: 0.9256"
   ]
  },
  {
   "cell_type": "markdown",
   "metadata": {},
   "source": [
    "### Logistic Regression"
   ]
  },
  {
   "cell_type": "code",
   "execution_count": 60,
   "metadata": {},
   "outputs": [],
   "source": [
    "trainLR <- trainDT\n",
    "testLR <- testDT"
   ]
  },
  {
   "cell_type": "code",
   "execution_count": 61,
   "metadata": {},
   "outputs": [],
   "source": [
    "classifierLR <- glm(is_promoted ~ ., family=binomial, data=trainLR)"
   ]
  },
  {
   "cell_type": "code",
   "execution_count": 68,
   "metadata": {},
   "outputs": [
    {
     "name": "stderr",
     "output_type": "stream",
     "text": [
      "Warning message in predict.lm(classifierLR, type = \"response\", newdata = testDT[-61]):\n",
      "\"prediction from a rank-deficient fit may be misleading\""
     ]
    }
   ],
   "source": [
    "predLR = predict(classifierLR, type = 'response', newdata = testDT[-61])\n",
    "predLR = ifelse(predLR > 0.5, 1, 0)"
   ]
  },
  {
   "cell_type": "code",
   "execution_count": 66,
   "metadata": {},
   "outputs": [
    {
     "data": {
      "text/html": [
       "<dl class=dl-horizontal>\n",
       "\t<dt>11</dt>\n",
       "\t\t<dd>0</dd>\n",
       "\t<dt>15</dt>\n",
       "\t\t<dd>0</dd>\n",
       "\t<dt>18</dt>\n",
       "\t\t<dd>0</dd>\n",
       "\t<dt>23</dt>\n",
       "\t\t<dd>0</dd>\n",
       "\t<dt>26</dt>\n",
       "\t\t<dd>1</dd>\n",
       "\t<dt>37</dt>\n",
       "\t\t<dd>0</dd>\n",
       "</dl>\n"
      ],
      "text/latex": [
       "\\begin{description*}\n",
       "\\item[11] 0\n",
       "\\item[15] 0\n",
       "\\item[18] 0\n",
       "\\item[23] 0\n",
       "\\item[26] 1\n",
       "\\item[37] 0\n",
       "\\end{description*}\n"
      ],
      "text/markdown": [
       "11\n",
       ":   015\n",
       ":   018\n",
       ":   023\n",
       ":   026\n",
       ":   137\n",
       ":   0\n",
       "\n"
      ],
      "text/plain": [
       "11 15 18 23 26 37 \n",
       " 0  0  0  0  1  0 "
      ]
     },
     "metadata": {},
     "output_type": "display_data"
    }
   ],
   "source": [
    "head(predLR)"
   ]
  },
  {
   "cell_type": "code",
   "execution_count": 67,
   "metadata": {},
   "outputs": [
    {
     "data": {
      "text/plain": [
       "Confusion Matrix and Statistics\n",
       "\n",
       "          Reference\n",
       "Prediction    0    1\n",
       "         0 9975   53\n",
       "         1  668  266\n",
       "                                          \n",
       "               Accuracy : 0.9342          \n",
       "                 95% CI : (0.9294, 0.9388)\n",
       "    No Information Rate : 0.9709          \n",
       "    P-Value [Acc > NIR] : 1               \n",
       "                                          \n",
       "                  Kappa : 0.3985          \n",
       "                                          \n",
       " Mcnemar's Test P-Value : <2e-16          \n",
       "                                          \n",
       "            Sensitivity : 0.9372          \n",
       "            Specificity : 0.8339          \n",
       "         Pos Pred Value : 0.9947          \n",
       "         Neg Pred Value : 0.2848          \n",
       "             Prevalence : 0.9709          \n",
       "         Detection Rate : 0.9100          \n",
       "   Detection Prevalence : 0.9148          \n",
       "      Balanced Accuracy : 0.8855          \n",
       "                                          \n",
       "       'Positive' Class : 0               \n",
       "                                          "
      ]
     },
     "metadata": {},
     "output_type": "display_data"
    }
   ],
   "source": [
    "actual <- as.factor(testLR$is_promoted)\n",
    "predict <- as.factor(predLR)\n",
    "confusionMatrix(actual,predict)"
   ]
  },
  {
   "cell_type": "markdown",
   "metadata": {},
   "source": [
    "#### Accuracy: 0.9342"
   ]
  },
  {
   "cell_type": "markdown",
   "metadata": {},
   "source": [
    "### K-Nearest Neighbors"
   ]
  },
  {
   "cell_type": "code",
   "execution_count": 70,
   "metadata": {},
   "outputs": [],
   "source": [
    "trainKN <- trainDT\n",
    "testKN <- trainKN"
   ]
  },
  {
   "cell_type": "code",
   "execution_count": 71,
   "metadata": {},
   "outputs": [],
   "source": [
    "library(class)"
   ]
  },
  {
   "cell_type": "code",
   "execution_count": 74,
   "metadata": {},
   "outputs": [],
   "source": [
    "predKN = knn(train = trainKN[, -61],\n",
    "             test = testKN[, -61],\n",
    "             cl = trainKN[, 61],\n",
    "             k = 5,\n",
    "             prob = TRUE)"
   ]
  },
  {
   "cell_type": "code",
   "execution_count": 77,
   "metadata": {
    "scrolled": false
   },
   "outputs": [
    {
     "data": {
      "text/html": [
       "<ol class=list-inline>\n",
       "\t<li>0</li>\n",
       "\t<li>0</li>\n",
       "\t<li>0</li>\n",
       "\t<li>0</li>\n",
       "\t<li>0</li>\n",
       "\t<li>0</li>\n",
       "</ol>\n",
       "\n",
       "<details>\n",
       "\t<summary style=display:list-item;cursor:pointer>\n",
       "\t\t<strong>Levels</strong>:\n",
       "\t</summary>\n",
       "\t<ol class=list-inline>\n",
       "\t\t<li>'0'</li>\n",
       "\t\t<li>'1'</li>\n",
       "\t</ol>\n",
       "</details>"
      ],
      "text/latex": [
       "\\begin{enumerate*}\n",
       "\\item 0\n",
       "\\item 0\n",
       "\\item 0\n",
       "\\item 0\n",
       "\\item 0\n",
       "\\item 0\n",
       "\\end{enumerate*}\n",
       "\n",
       "\\emph{Levels}: \\begin{enumerate*}\n",
       "\\item '0'\n",
       "\\item '1'\n",
       "\\end{enumerate*}\n"
      ],
      "text/markdown": [
       "1. 0\n",
       "2. 0\n",
       "3. 0\n",
       "4. 0\n",
       "5. 0\n",
       "6. 0\n",
       "\n",
       "\n",
       "\n",
       "**Levels**: 1. '0'\n",
       "2. '1'\n",
       "\n",
       "\n"
      ],
      "text/plain": [
       "[1] 0 0 0 0 0 0\n",
       "Levels: 0 1"
      ]
     },
     "metadata": {},
     "output_type": "display_data"
    }
   ],
   "source": [
    "head(predKN)"
   ]
  },
  {
   "cell_type": "code",
   "execution_count": 78,
   "metadata": {},
   "outputs": [
    {
     "data": {
      "text/plain": [
       "Confusion Matrix and Statistics\n",
       "\n",
       "          Reference\n",
       "Prediction     0     1\n",
       "         0 39866   246\n",
       "         1  2997   737\n",
       "                                          \n",
       "               Accuracy : 0.926           \n",
       "                 95% CI : (0.9235, 0.9285)\n",
       "    No Information Rate : 0.9776          \n",
       "    P-Value [Acc > NIR] : 1               \n",
       "                                          \n",
       "                  Kappa : 0.2872          \n",
       "                                          \n",
       " Mcnemar's Test P-Value : <2e-16          \n",
       "                                          \n",
       "            Sensitivity : 0.9301          \n",
       "            Specificity : 0.7497          \n",
       "         Pos Pred Value : 0.9939          \n",
       "         Neg Pred Value : 0.1974          \n",
       "             Prevalence : 0.9776          \n",
       "         Detection Rate : 0.9092          \n",
       "   Detection Prevalence : 0.9148          \n",
       "      Balanced Accuracy : 0.8399          \n",
       "                                          \n",
       "       'Positive' Class : 0               \n",
       "                                          "
      ]
     },
     "metadata": {},
     "output_type": "display_data"
    }
   ],
   "source": [
    "actual <- as.factor(testKN$is_promoted)\n",
    "predict <- predKN\n",
    "confusionMatrix(actual,predict)"
   ]
  },
  {
   "cell_type": "markdown",
   "metadata": {},
   "source": [
    "#### Accuracy: 0.926"
   ]
  },
  {
   "cell_type": "markdown",
   "metadata": {},
   "source": [
    "### ANN"
   ]
  },
  {
   "cell_type": "code",
   "execution_count": 79,
   "metadata": {},
   "outputs": [
    {
     "name": "stderr",
     "output_type": "stream",
     "text": [
      "\n",
      "----------------------------------------------------------------------\n",
      "\n",
      "Your next step is to start H2O:\n",
      "    > h2o.init()\n",
      "\n",
      "For H2O package documentation, ask for help:\n",
      "    > ??h2o\n",
      "\n",
      "After starting H2O, you can use the Web UI at http://localhost:54321\n",
      "For more information visit http://docs.h2o.ai\n",
      "\n",
      "----------------------------------------------------------------------\n",
      "\n",
      "\n",
      "Attaching package: 'h2o'\n",
      "\n",
      "The following objects are masked from 'package:stats':\n",
      "\n",
      "    cor, sd, var\n",
      "\n",
      "The following objects are masked from 'package:base':\n",
      "\n",
      "    %*%, %in%, &&, ||, apply, as.factor, as.numeric, colnames,\n",
      "    colnames<-, ifelse, is.character, is.factor, is.numeric, log,\n",
      "    log10, log1p, log2, round, signif, trunc\n",
      "\n"
     ]
    },
    {
     "name": "stdout",
     "output_type": "stream",
     "text": [
      "\n",
      "H2O is not running yet, starting it now...\n",
      "\n",
      "Note:  In case of errors look at the following log files:\n",
      "    C:\\Users\\GOKU\\AppData\\Local\\Temp\\Rtmpwt7pQX/h2o_GOKU_started_from_r.out\n",
      "    C:\\Users\\GOKU\\AppData\\Local\\Temp\\Rtmpwt7pQX/h2o_GOKU_started_from_r.err\n",
      "\n",
      "\n",
      "Starting H2O JVM and connecting: . Connection successful!\n",
      "\n",
      "R is connected to the H2O cluster: \n",
      "    H2O cluster uptime:         6 seconds 102 milliseconds \n",
      "    H2O cluster timezone:       Asia/Kolkata \n",
      "    H2O data parsing timezone:  UTC \n",
      "    H2O cluster version:        3.26.0.2 \n",
      "    H2O cluster version age:    4 months !!! \n",
      "    H2O cluster name:           H2O_started_from_R_GOKU_sss228 \n",
      "    H2O cluster total nodes:    1 \n",
      "    H2O cluster total memory:   1.31 GB \n",
      "    H2O cluster total cores:    2 \n",
      "    H2O cluster allowed cores:  2 \n",
      "    H2O cluster healthy:        TRUE \n",
      "    H2O Connection ip:          localhost \n",
      "    H2O Connection port:        54321 \n",
      "    H2O Connection proxy:       NA \n",
      "    H2O Internal Security:      FALSE \n",
      "    H2O API Extensions:         Amazon S3, Algos, AutoML, Core V3, Core V4 \n",
      "    R Version:                  R version 3.6.1 (2019-07-05) \n"
     ]
    },
    {
     "name": "stderr",
     "output_type": "stream",
     "text": [
      "Warning message in h2o.clusterInfo():\n",
      "\"\n",
      "Your H2O cluster version is too old (4 months)!\n",
      "Please download and install the latest version from http://h2o.ai/download/\""
     ]
    },
    {
     "name": "stdout",
     "output_type": "stream",
     "text": [
      "\n"
     ]
    }
   ],
   "source": [
    "library(h2o)\n",
    "h2o.init(nthreads = -1)"
   ]
  },
  {
   "cell_type": "code",
   "execution_count": 80,
   "metadata": {},
   "outputs": [],
   "source": [
    "trainAN <- trainDT\n",
    "testAN <- testDT"
   ]
  },
  {
   "cell_type": "code",
   "execution_count": 81,
   "metadata": {},
   "outputs": [
    {
     "name": "stdout",
     "output_type": "stream",
     "text": [
      "  |======================================================================| 100%\n",
      "  |======================================================================| 100%\n"
     ]
    }
   ],
   "source": [
    "classifierAN = h2o.deeplearning(y = 'is_promoted',\n",
    "                         training_frame = as.h2o(trainAN),\n",
    "                         activation = 'Rectifier',\n",
    "                         hidden = c(5,5),\n",
    "                         epochs = 100,\n",
    "                         train_samples_per_iteration = -2)"
   ]
  },
  {
   "cell_type": "code",
   "execution_count": 97,
   "metadata": {},
   "outputs": [
    {
     "name": "stdout",
     "output_type": "stream",
     "text": [
      "  |======================================================================| 100%\n",
      "  |======================================================================| 100%\n"
     ]
    }
   ],
   "source": [
    "predAN = h2o.predict(classifierAN, newdata = as.h2o(testAN[-61]))"
   ]
  },
  {
   "cell_type": "code",
   "execution_count": 98,
   "metadata": {},
   "outputs": [],
   "source": [
    "predAN = ifelse(predAN > 0.5,1,0)\n",
    "predAN = as.vector(predAN)"
   ]
  },
  {
   "cell_type": "code",
   "execution_count": 99,
   "metadata": {},
   "outputs": [
    {
     "data": {
      "text/html": [
       "<ol class=list-inline>\n",
       "\t<li>0</li>\n",
       "\t<li>0</li>\n",
       "\t<li>0</li>\n",
       "\t<li>0</li>\n",
       "\t<li>0</li>\n",
       "\t<li>0</li>\n",
       "</ol>\n"
      ],
      "text/latex": [
       "\\begin{enumerate*}\n",
       "\\item 0\n",
       "\\item 0\n",
       "\\item 0\n",
       "\\item 0\n",
       "\\item 0\n",
       "\\item 0\n",
       "\\end{enumerate*}\n"
      ],
      "text/markdown": [
       "1. 0\n",
       "2. 0\n",
       "3. 0\n",
       "4. 0\n",
       "5. 0\n",
       "6. 0\n",
       "\n",
       "\n"
      ],
      "text/plain": [
       "[1] 0 0 0 0 0 0"
      ]
     },
     "metadata": {},
     "output_type": "display_data"
    }
   ],
   "source": [
    "head(predAN)"
   ]
  },
  {
   "cell_type": "code",
   "execution_count": 100,
   "metadata": {},
   "outputs": [
    {
     "data": {
      "text/plain": [
       "Confusion Matrix and Statistics\n",
       "\n",
       "          Reference\n",
       "Prediction    0    1\n",
       "         0 9956   72\n",
       "         1  608  326\n",
       "                                          \n",
       "               Accuracy : 0.938           \n",
       "                 95% CI : (0.9333, 0.9424)\n",
       "    No Information Rate : 0.9637          \n",
       "    P-Value [Acc > NIR] : 1               \n",
       "                                          \n",
       "                  Kappa : 0.4621          \n",
       "                                          \n",
       " Mcnemar's Test P-Value : <2e-16          \n",
       "                                          \n",
       "            Sensitivity : 0.9424          \n",
       "            Specificity : 0.8191          \n",
       "         Pos Pred Value : 0.9928          \n",
       "         Neg Pred Value : 0.3490          \n",
       "             Prevalence : 0.9637          \n",
       "         Detection Rate : 0.9082          \n",
       "   Detection Prevalence : 0.9148          \n",
       "      Balanced Accuracy : 0.8808          \n",
       "                                          \n",
       "       'Positive' Class : 0               \n",
       "                                          "
      ]
     },
     "metadata": {},
     "output_type": "display_data"
    }
   ],
   "source": [
    "actual <- as.factor(testAN$is_promoted)\n",
    "predict <- as.factor(predAN)\n",
    "confusionMatrix(actual,predict)"
   ]
  },
  {
   "cell_type": "markdown",
   "metadata": {},
   "source": [
    "#### Accuracy: 0.938"
   ]
  },
  {
   "cell_type": "markdown",
   "metadata": {},
   "source": [
    "### XGBoost"
   ]
  },
  {
   "cell_type": "code",
   "execution_count": 101,
   "metadata": {},
   "outputs": [],
   "source": [
    "X_feature <- names(training_set)\n",
    "X_feature <- X_feature[-61]\n",
    "X_target <- training_set$is_promoted\n",
    "X_targetT <- test_set$is_promoted\n",
    "\n",
    "library(xgboost)\n",
    "\n",
    "Xgtrain <- xgb.DMatrix(data=as.matrix(training_set[,X_feature]), label=X_target, missing=NA)\n",
    "Xgtest <- xgb.DMatrix(data =as.matrix(test_set[,X_feature]),label=X_targetT, missing=NA)"
   ]
  },
  {
   "cell_type": "code",
   "execution_count": 102,
   "metadata": {},
   "outputs": [
    {
     "name": "stderr",
     "output_type": "stream",
     "text": [
      "Warning message:\n",
      "\"'print.every.n' is deprecated.\n",
      "Use 'print_every_n' instead.\n",
      "See help(\"Deprecated\") and help(\"xgboost-deprecated\").\"Warning message:\n",
      "\"'early.stop.round' is deprecated.\n",
      "Use 'early_stopping_rounds' instead.\n",
      "See help(\"Deprecated\") and help(\"xgboost-deprecated\").\""
     ]
    },
    {
     "name": "stdout",
     "output_type": "stream",
     "text": [
      "[1]\ttrain-error:0.068678+0.000411\ttest-error:0.069949+0.001030 \n",
      "Multiple eval metrics are present. Will use test_error for early stopping.\n",
      "Will train until test_error hasn't improved in 50 rounds.\n",
      "\n",
      "[11]\ttrain-error:0.058255+0.000640\ttest-error:0.060051+0.001153 \n",
      "[21]\ttrain-error:0.056333+0.000424\ttest-error:0.058797+0.001208 \n",
      "[31]\ttrain-error:0.055056+0.000587\ttest-error:0.058523+0.001417 \n",
      "[41]\ttrain-error:0.054275+0.000454\ttest-error:0.058432+0.001480 \n",
      "[51]\ttrain-error:0.053198+0.000390\ttest-error:0.058477+0.001672 \n",
      "[61]\ttrain-error:0.052211+0.000454\ttest-error:0.058500+0.001471 \n",
      "[71]\ttrain-error:0.051088+0.000493\ttest-error:0.058956+0.001554 \n",
      "Stopping. Best iteration:\n",
      "[24]\ttrain-error:0.055763+0.000387\ttest-error:0.058432+0.001485\n",
      "\n"
     ]
    },
    {
     "data": {
      "text/plain": [
       "##### xgb.cv 5-folds\n",
       " iter train_error_mean train_error_std test_error_mean test_error_std\n",
       "    1        0.0686780    0.0004114909       0.0699492   0.0010297806\n",
       "    2        0.0671552    0.0011604488       0.0689002   0.0006413867\n",
       "    3        0.0659868    0.0006267415       0.0677370   0.0009166432\n",
       "    4        0.0648406    0.0010101655       0.0665968   0.0007952291\n",
       "    5        0.0628166    0.0015230499       0.0640652   0.0006973629\n",
       "    6        0.0602334    0.0011882492       0.0616704   0.0015836236\n",
       "    7        0.0592700    0.0005496217       0.0605756   0.0011172324\n",
       "    8        0.0587454    0.0002593396       0.0601880   0.0015728983\n",
       "    9        0.0585970    0.0004352066       0.0600968   0.0016159776\n",
       "   10        0.0582094    0.0005598145       0.0597776   0.0014555640\n",
       "   11        0.0582550    0.0006395111       0.0600512   0.0011525942\n",
       "   12        0.0580214    0.0006174799       0.0598688   0.0012235799\n",
       "   13        0.0579756    0.0005943614       0.0598688   0.0012343772\n",
       "   14        0.0575878    0.0005121497       0.0595496   0.0015597159\n",
       "   15        0.0574910    0.0004938303       0.0596636   0.0015745268\n",
       "   16        0.0571946    0.0004544168       0.0594810   0.0016236572\n",
       "   17        0.0569096    0.0003799835       0.0590020   0.0014323811\n",
       "   18        0.0568066    0.0003781654       0.0588424   0.0013256471\n",
       "   19        0.0566128    0.0005198590       0.0587284   0.0012235422\n",
       "   20        0.0564360    0.0004626446       0.0587512   0.0011222287\n",
       "   21        0.0563334    0.0004235392       0.0587966   0.0012076139\n",
       "   22        0.0562766    0.0004060456       0.0587740   0.0012870688\n",
       "   23        0.0560312    0.0003282751       0.0584544   0.0013014759\n",
       "   24        0.0557634    0.0003865864       0.0584316   0.0014845916\n",
       "   25        0.0556664    0.0004641981       0.0585228   0.0013168054\n",
       "   26        0.0555582    0.0004911963       0.0585684   0.0013211926\n",
       "   27        0.0555126    0.0004644901       0.0585458   0.0012908257\n",
       "   28        0.0554270    0.0004616912       0.0585230   0.0012802979\n",
       "   29        0.0552958    0.0004564066       0.0585458   0.0013936128\n",
       "   30        0.0551134    0.0005632121       0.0585684   0.0014125028\n",
       "   31        0.0550564    0.0005869407       0.0585230   0.0014172558\n",
       "   32        0.0549650    0.0004713483       0.0585684   0.0015325621\n",
       "   33        0.0548796    0.0004603862       0.0585912   0.0016357451\n",
       "   34        0.0548056    0.0004657182       0.0586370   0.0015453912\n",
       "   35        0.0547712    0.0004672543       0.0586142   0.0014984647\n",
       "   36        0.0547312    0.0004602345       0.0586370   0.0014569663\n",
       "   37        0.0546400    0.0004727659       0.0586370   0.0014497185\n",
       "   38        0.0545032    0.0004723365       0.0586370   0.0014569663\n",
       "   39        0.0544120    0.0004637090       0.0585686   0.0014731420\n",
       "   40        0.0543434    0.0005009729       0.0585230   0.0014973292\n",
       "   41        0.0542752    0.0004542763       0.0584318   0.0014802321\n",
       "   42        0.0542068    0.0004025958       0.0584546   0.0014627044\n",
       "   43        0.0540872    0.0004477881       0.0585230   0.0013912287\n",
       "   44        0.0539900    0.0004539471       0.0584774   0.0014389589\n",
       "   45        0.0539048    0.0004025267       0.0584318   0.0013690188\n",
       "   46        0.0537734    0.0003685260       0.0584774   0.0014729873\n",
       "   47        0.0536308    0.0003325251       0.0585914   0.0015918368\n",
       "   48        0.0535112    0.0003529665       0.0585228   0.0016035792\n",
       "   49        0.0534256    0.0003624553       0.0585914   0.0016923357\n",
       "   50        0.0533286    0.0003673617       0.0585684   0.0016722855\n",
       "   51        0.0531976    0.0003897725       0.0584772   0.0016721655\n",
       "   52        0.0531860    0.0004406922       0.0584772   0.0016721655\n",
       "   53        0.0530380    0.0004072773       0.0585228   0.0016565762\n",
       "   54        0.0528840    0.0004057650       0.0585456   0.0015648037\n",
       "   55        0.0528612    0.0003740173       0.0585228   0.0015875606\n",
       "   56        0.0527928    0.0003802817       0.0585684   0.0016537081\n",
       "   57        0.0526332    0.0004331981       0.0585228   0.0016310970\n",
       "   58        0.0524906    0.0004468013       0.0584544   0.0016408915\n",
       "   59        0.0524962    0.0004350046       0.0584544   0.0016598871\n",
       "   60        0.0523766    0.0004475920       0.0584772   0.0016310550\n",
       "   61        0.0522112    0.0004539024       0.0585000   0.0014708535\n",
       "   62        0.0520344    0.0004166623       0.0585456   0.0016519286\n",
       "   63        0.0519032    0.0003693840       0.0585228   0.0016688215\n",
       "   64        0.0517492    0.0004101572       0.0585228   0.0016641425\n",
       "   65        0.0516868    0.0004402406       0.0585228   0.0016625799\n",
       "   66        0.0516070    0.0004246288       0.0586370   0.0017438336\n",
       "   67        0.0514928    0.0003794920       0.0588424   0.0016160198\n",
       "   68        0.0513958    0.0004071164       0.0589564   0.0016351369\n",
       "   69        0.0512704    0.0004204134       0.0589564   0.0015766856\n",
       "   70        0.0512306    0.0004889420       0.0590020   0.0015924786\n",
       "   71        0.0510878    0.0004933812       0.0589564   0.0015535082\n",
       "   72        0.0510024    0.0004154336       0.0588424   0.0015297116\n",
       "   73        0.0508886    0.0004078664       0.0589792   0.0015607883\n",
       "   74        0.0507972    0.0003599358       0.0588880   0.0015923927\n",
       " iter train_error_mean train_error_std test_error_mean test_error_std\n",
       "Best iteration:\n",
       " iter train_error_mean train_error_std test_error_mean test_error_std\n",
       "   24        0.0557634    0.0003865864       0.0584316    0.001484592"
      ]
     },
     "metadata": {},
     "output_type": "display_data"
    }
   ],
   "source": [
    "params <- list(booster = \"gbtree\", objective = \"binary:logistic\", eta=0.3, gamma=0, max_depth=6, min_child_weight=1, subsample=1, colsample_bytree=1)\n",
    "\n",
    "xgbcv <- xgb.cv( params = params, data = Xgtrain, nrounds = 1000, nfold = 5, showsd = T, stratified = T, print.every.n = 10, early.stop.round = 50, maximize = F)\n",
    "xgbcv"
   ]
  },
  {
   "cell_type": "code",
   "execution_count": 103,
   "metadata": {},
   "outputs": [
    {
     "name": "stderr",
     "output_type": "stream",
     "text": [
      "Warning message:\n",
      "\"'print.every.n' is deprecated.\n",
      "Use 'print_every_n' instead.\n",
      "See help(\"Deprecated\") and help(\"xgboost-deprecated\").\"Warning message:\n",
      "\"'early.stop.round' is deprecated.\n",
      "Use 'early_stopping_rounds' instead.\n",
      "See help(\"Deprecated\") and help(\"xgboost-deprecated\").\""
     ]
    },
    {
     "name": "stdout",
     "output_type": "stream",
     "text": [
      "[1]\tval-error:0.069148\ttrain-error:0.068969 \n",
      "Multiple eval metrics are present. Will use train_error for early stopping.\n",
      "Will train until train_error hasn't improved in 10 rounds.\n",
      "\n",
      "[11]\tval-error:0.056650\ttrain-error:0.057360 \n",
      "[21]\tval-error:0.056468\ttrain-error:0.056493 \n",
      "[24]\tval-error:0.056559\ttrain-error:0.056334 \n"
     ]
    },
    {
     "data": {
      "text/plain": [
       "##### xgb.Booster\n",
       "raw: 71.8 Kb \n",
       "call:\n",
       "  xgb.train(params = params, data = Xgtrain, nrounds = 24, watchlist = list(val = Xgtest, \n",
       "    train = Xgtrain), maximize = F, print.every.n = 10, early.stop.round = 10, \n",
       "    eval_metric = \"error\")\n",
       "params (as set within xgb.train):\n",
       "  booster = \"gbtree\", objective = \"binary:logistic\", eta = \"0.3\", gamma = \"0\", max_depth = \"6\", min_child_weight = \"1\", subsample = \"1\", colsample_bytree = \"1\", print_every_n = \"10\", early_stop_round = \"10\", eval_metric = \"error\", silent = \"1\"\n",
       "xgb.attributes:\n",
       "  best_iteration, best_msg, best_ntreelimit, best_score, niter\n",
       "callbacks:\n",
       "  cb.print.evaluation(period = print_every_n)\n",
       "  cb.evaluation.log()\n",
       "  cb.early.stop(stopping_rounds = early_stopping_rounds, maximize = maximize, \n",
       "    verbose = verbose)\n",
       "# of features: 60 \n",
       "niter: 24\n",
       "best_iteration : 23 \n",
       "best_ntreelimit : 23 \n",
       "best_score : 0.056334 \n",
       "nfeatures : 60 \n",
       "evaluation_log:\n",
       "    iter val_error train_error\n",
       "       1  0.069148    0.068969\n",
       "       2  0.067688    0.067121\n",
       "---                           \n",
       "      23  0.056468    0.056334\n",
       "      24  0.056559    0.056334"
      ]
     },
     "metadata": {},
     "output_type": "display_data"
    }
   ],
   "source": [
    "xgb1 <- xgb.train (params = params, \n",
    "                   data = Xgtrain, \n",
    "                   nrounds = 24, \n",
    "                   watchlist = list(val=Xgtest,train=Xgtrain), \n",
    "                       print.every.n = 10,\n",
    "                       early.stop.round = 10, \n",
    "                       maximize = F , \n",
    "                       eval_metric = \"error\")\n",
    "xgb1"
   ]
  },
  {
   "cell_type": "code",
   "execution_count": 104,
   "metadata": {},
   "outputs": [
    {
     "data": {
      "text/html": [
       "<ol class=list-inline>\n",
       "\t<li>0</li>\n",
       "\t<li>0</li>\n",
       "\t<li>0</li>\n",
       "\t<li>0</li>\n",
       "\t<li>0</li>\n",
       "\t<li>0</li>\n",
       "</ol>\n"
      ],
      "text/latex": [
       "\\begin{enumerate*}\n",
       "\\item 0\n",
       "\\item 0\n",
       "\\item 0\n",
       "\\item 0\n",
       "\\item 0\n",
       "\\item 0\n",
       "\\end{enumerate*}\n"
      ],
      "text/markdown": [
       "1. 0\n",
       "2. 0\n",
       "3. 0\n",
       "4. 0\n",
       "5. 0\n",
       "6. 0\n",
       "\n",
       "\n"
      ],
      "text/plain": [
       "[1] 0 0 0 0 0 0"
      ]
     },
     "metadata": {},
     "output_type": "display_data"
    }
   ],
   "source": [
    "predxg <- predict (xgb1,Xgtest)\n",
    "predxg <- ifelse (predxg > 0.5,1,0)\n",
    "head(predxg)"
   ]
  },
  {
   "cell_type": "code",
   "execution_count": 106,
   "metadata": {},
   "outputs": [
    {
     "data": {
      "text/plain": [
       "Confusion Matrix and Statistics\n",
       "\n",
       "          Reference\n",
       "Prediction     0     1\n",
       "         0 10018    10\n",
       "         1   609   325\n",
       "                                         \n",
       "               Accuracy : 0.9435         \n",
       "                 95% CI : (0.939, 0.9478)\n",
       "    No Information Rate : 0.9694         \n",
       "    P-Value [Acc > NIR] : 1              \n",
       "                                         \n",
       "                  Kappa : 0.4892         \n",
       "                                         \n",
       " Mcnemar's Test P-Value : <2e-16         \n",
       "                                         \n",
       "            Sensitivity : 0.9427         \n",
       "            Specificity : 0.9701         \n",
       "         Pos Pred Value : 0.9990         \n",
       "         Neg Pred Value : 0.3480         \n",
       "             Prevalence : 0.9694         \n",
       "         Detection Rate : 0.9139         \n",
       "   Detection Prevalence : 0.9148         \n",
       "      Balanced Accuracy : 0.9564         \n",
       "                                         \n",
       "       'Positive' Class : 0              \n",
       "                                         "
      ]
     },
     "metadata": {},
     "output_type": "display_data"
    }
   ],
   "source": [
    "actual <- as.factor(X_targetT)\n",
    "predict <- as.factor(predxg)\n",
    "confusionMatrix(actual, predict)"
   ]
  },
  {
   "cell_type": "markdown",
   "metadata": {},
   "source": [
    "#### Accuracy:0.9435"
   ]
  },
  {
   "cell_type": "code",
   "execution_count": 107,
   "metadata": {},
   "outputs": [
    {
     "data": {
      "image/png": "[encoded data removed]",
      "text/plain": [
       "plot without title"
      ]
     },
     "metadata": {},
     "output_type": "display_data"
    }
   ],
   "source": [
    "mat <- xgb.importance (feature_names = colnames(X_feature),model = xgb1)\n",
    "xgb.plot.importance (importance_matrix = mat[1:20])"
   ]
  },
  {
   "cell_type": "markdown",
   "metadata": {},
   "source": [
    "#### XGBoost with hyperparamter"
   ]
  },
  {
   "cell_type": "code",
   "execution_count": 54,
   "metadata": {},
   "outputs": [],
   "source": [
    "fact_col <- colnames(training_set)[sapply(training_set,is.character)]\n",
    "\n",
    "for(i in fact_col) set(training_set,j=i,value = factor(training_set[[i]]))\n",
    "for (i in fact_col) set(test_set,j=i,value = factor(test_set[[i]]))"
   ]
  },
  {
   "cell_type": "code",
   "execution_count": 56,
   "metadata": {},
   "outputs": [],
   "source": [
    "colnames(training_set) <- make.names(colnames(training_set),unique = T)\n",
    "colnames(test_set) <- make.names(colnames(test_set),unique = T)\n",
    "\n",
    "library(mlr)\n",
    "traintask <- makeClassifTask (data = training_set,target = \"is_promoted\")\n",
    "testtask <- makeClassifTask (data = test_set,target = \"is_promoted\")"
   ]
  },
  {
   "cell_type": "code",
   "execution_count": 57,
   "metadata": {},
   "outputs": [
    {
     "name": "stderr",
     "output_type": "stream",
     "text": [
      "Warning message in makeParam(id = id, type = \"numeric\", learner.param = TRUE, lower = lower, :\n",
      "\"NA used as a default value for learner parameter missing.\n",
      "ParamHelpers uses NA as a special value for dependent parameters.\""
     ]
    }
   ],
   "source": [
    "lrn <- makeLearner(\"classif.xgboost\",predict.type = \"response\")\n",
    "lrn$par.vals <- list( objective=\"binary:logistic\", eval_metric=\"error\", nrounds=100L, eta=0.1)"
   ]
  },
  {
   "cell_type": "code",
   "execution_count": 58,
   "metadata": {},
   "outputs": [],
   "source": [
    "params <- makeParamSet( makeDiscreteParam(\"booster\",values = c(\"gbtree\",\"gblinear\")), makeIntegerParam(\"max_depth\",lower = 3L,upper = 10L), makeNumericParam(\"min_child_weight\",lower = 1L,upper = 10L), makeNumericParam(\"subsample\",lower = 0.5,upper = 1), makeNumericParam(\"colsample_bytree\",lower = 0.5,upper = 1))"
   ]
  },
  {
   "cell_type": "code",
   "execution_count": 59,
   "metadata": {},
   "outputs": [],
   "source": [
    "rdesc <- makeResampleDesc(\"CV\",stratify = T,iters=5L)"
   ]
  },
  {
   "cell_type": "code",
   "execution_count": 60,
   "metadata": {},
   "outputs": [],
   "source": [
    "ctrl <- makeTuneControlRandom(maxit = 10L)"
   ]
  },
  {
   "cell_type": "code",
   "execution_count": 61,
   "metadata": {},
   "outputs": [
    {
     "name": "stderr",
     "output_type": "stream",
     "text": [
      "Starting parallelization in mode=socket with cpus=2.\n"
     ]
    }
   ],
   "source": [
    "library(parallel)\n",
    "library(parallelMap) \n",
    "parallelStartSocket(cpus = detectCores())"
   ]
  },
  {
   "cell_type": "code",
   "execution_count": 62,
   "metadata": {},
   "outputs": [
    {
     "name": "stderr",
     "output_type": "stream",
     "text": [
      "[Tune] Started tuning learner classif.xgboost for parameter set:\n",
      "                     Type len Def          Constr Req Tunable Trafo\n",
      "booster          discrete   -   - gbtree,gblinear   -    TRUE     -\n",
      "max_depth         integer   -   -         3 to 10   -    TRUE     -\n",
      "min_child_weight  numeric   -   -         1 to 10   -    TRUE     -\n",
      "subsample         numeric   -   -        0.5 to 1   -    TRUE     -\n",
      "colsample_bytree  numeric   -   -        0.5 to 1   -    TRUE     -\n",
      "With control class: TuneControlRandom\n",
      "Imputation value: -0\n",
      "Exporting objects to slaves for mode socket: .mlr.slave.options\n",
      "Mapping in parallel: mode = socket; level = mlr.tuneParams; cpus = 2; elements = 10.\n",
      "[Tune] Result: booster=gbtree; max_depth=8; min_child_weight=9.77; subsample=0.952; colsample_bytree=0.931 : acc.test.mean=0.9404279\n"
     ]
    },
    {
     "data": {
      "text/html": [
       "<strong>acc.test.mean:</strong> 0.940427901289159"
      ],
      "text/latex": [
       "\\textbf{acc.test.mean:} 0.940427901289159"
      ],
      "text/markdown": [
       "**acc.test.mean:** 0.940427901289159"
      ],
      "text/plain": [
       "acc.test.mean \n",
       "    0.9404279 "
      ]
     },
     "metadata": {},
     "output_type": "display_data"
    }
   ],
   "source": [
    "mytune <- tuneParams(learner = lrn, task = traintask, resampling = rdesc, measures = acc, par.set = params, control = ctrl, show.info = T)\n",
    "mytune$y "
   ]
  },
  {
   "cell_type": "code",
   "execution_count": 63,
   "metadata": {},
   "outputs": [],
   "source": [
    "lrn_tune <- setHyperPars(lrn,par.vals = mytune$x)"
   ]
  },
  {
   "cell_type": "code",
   "execution_count": 64,
   "metadata": {
    "scrolled": false
   },
   "outputs": [
    {
     "name": "stdout",
     "output_type": "stream",
     "text": [
      "[1]\ttrain-error:0.069060 \n",
      "[2]\ttrain-error:0.068969 \n",
      "[3]\ttrain-error:0.069493 \n",
      "[4]\ttrain-error:0.067760 \n",
      "[5]\ttrain-error:0.068969 \n",
      "[6]\ttrain-error:0.066984 \n",
      "[7]\ttrain-error:0.064635 \n",
      "[8]\ttrain-error:0.065205 \n",
      "[9]\ttrain-error:0.064111 \n",
      "[10]\ttrain-error:0.063381 \n",
      "[11]\ttrain-error:0.063176 \n",
      "[12]\ttrain-error:0.063130 \n",
      "[13]\ttrain-error:0.062400 \n",
      "[14]\ttrain-error:0.062218 \n",
      "[15]\ttrain-error:0.062400 \n",
      "[16]\ttrain-error:0.061876 \n",
      "[17]\ttrain-error:0.061807 \n",
      "[18]\ttrain-error:0.061351 \n",
      "[19]\ttrain-error:0.061579 \n",
      "[20]\ttrain-error:0.061374 \n",
      "[21]\ttrain-error:0.060963 \n",
      "[22]\ttrain-error:0.060804 \n",
      "[23]\ttrain-error:0.060598 \n",
      "[24]\ttrain-error:0.060507 \n",
      "[25]\ttrain-error:0.060576 \n",
      "[26]\ttrain-error:0.060348 \n",
      "[27]\ttrain-error:0.060325 \n",
      "[28]\ttrain-error:0.060302 \n",
      "[29]\ttrain-error:0.060302 \n",
      "[30]\ttrain-error:0.060256 \n",
      "[31]\ttrain-error:0.060188 \n",
      "[32]\ttrain-error:0.060120 \n",
      "[33]\ttrain-error:0.060097 \n",
      "[34]\ttrain-error:0.059937 \n",
      "[35]\ttrain-error:0.059823 \n",
      "[36]\ttrain-error:0.059732 \n",
      "[37]\ttrain-error:0.059709 \n",
      "[38]\ttrain-error:0.059549 \n",
      "[39]\ttrain-error:0.059321 \n",
      "[40]\ttrain-error:0.059070 \n",
      "[41]\ttrain-error:0.058865 \n",
      "[42]\ttrain-error:0.058363 \n",
      "[43]\ttrain-error:0.058295 \n",
      "[44]\ttrain-error:0.058318 \n",
      "[45]\ttrain-error:0.058363 \n",
      "[46]\ttrain-error:0.058158 \n",
      "[47]\ttrain-error:0.058044 \n",
      "[48]\ttrain-error:0.058135 \n",
      "[49]\ttrain-error:0.058112 \n",
      "[50]\ttrain-error:0.057907 \n",
      "[51]\ttrain-error:0.057839 \n",
      "[52]\ttrain-error:0.057634 \n",
      "[53]\ttrain-error:0.057656 \n",
      "[54]\ttrain-error:0.057656 \n",
      "[55]\ttrain-error:0.057565 \n",
      "[56]\ttrain-error:0.057588 \n",
      "[57]\ttrain-error:0.057679 \n",
      "[58]\ttrain-error:0.057702 \n",
      "[59]\ttrain-error:0.057634 \n",
      "[60]\ttrain-error:0.057611 \n",
      "[61]\ttrain-error:0.057519 \n",
      "[62]\ttrain-error:0.057474 \n",
      "[63]\ttrain-error:0.057474 \n",
      "[64]\ttrain-error:0.057497 \n",
      "[65]\ttrain-error:0.057428 \n",
      "[66]\ttrain-error:0.057428 \n",
      "[67]\ttrain-error:0.057428 \n",
      "[68]\ttrain-error:0.057474 \n",
      "[69]\ttrain-error:0.057497 \n",
      "[70]\ttrain-error:0.057405 \n",
      "[71]\ttrain-error:0.057383 \n",
      "[72]\ttrain-error:0.057405 \n",
      "[73]\ttrain-error:0.057269 \n",
      "[74]\ttrain-error:0.057269 \n",
      "[75]\ttrain-error:0.057155 \n",
      "[76]\ttrain-error:0.057063 \n",
      "[77]\ttrain-error:0.057086 \n",
      "[78]\ttrain-error:0.057086 \n",
      "[79]\ttrain-error:0.056995 \n",
      "[80]\ttrain-error:0.057018 \n",
      "[81]\ttrain-error:0.057018 \n",
      "[82]\ttrain-error:0.056949 \n",
      "[83]\ttrain-error:0.056904 \n",
      "[84]\ttrain-error:0.056835 \n",
      "[85]\ttrain-error:0.056881 \n",
      "[86]\ttrain-error:0.056812 \n",
      "[87]\ttrain-error:0.056790 \n",
      "[88]\ttrain-error:0.056744 \n",
      "[89]\ttrain-error:0.056653 \n",
      "[90]\ttrain-error:0.056698 \n",
      "[91]\ttrain-error:0.056607 \n",
      "[92]\ttrain-error:0.056584 \n",
      "[93]\ttrain-error:0.056653 \n",
      "[94]\ttrain-error:0.056653 \n",
      "[95]\ttrain-error:0.056584 \n",
      "[96]\ttrain-error:0.056539 \n",
      "[97]\ttrain-error:0.056539 \n",
      "[98]\ttrain-error:0.056516 \n",
      "[99]\ttrain-error:0.056493 \n",
      "[100]\ttrain-error:0.056493 \n"
     ]
    },
    {
     "data": {
      "text/plain": [
       "Model for learner.id=classif.xgboost; learner.class=classif.xgboost\n",
       "Trained on: task.id = training_set; obs = 43846; features = 60\n",
       "Hyperparameters: objective=binary:logistic,eval_metric=error,nrounds=100,eta=0.1,booster=gbtree,max_depth=8,min_child_weight=9.77,subsample=0.952,colsample_bytree=0.931"
      ]
     },
     "metadata": {},
     "output_type": "display_data"
    }
   ],
   "source": [
    "xgmodel <- train(learner = lrn_tune,task = traintask)\n",
    "xgmodel"
   ]
  },
  {
   "cell_type": "code",
   "execution_count": 67,
   "metadata": {},
   "outputs": [
    {
     "data": {
      "text/plain": [
       "Prediction: 10962 observations\n",
       "predict.type: response\n",
       "threshold: \n",
       "time: 0.08\n",
       "   id truth response\n",
       "11  1     0        0\n",
       "15  2     0        0\n",
       "18  3     0        0\n",
       "23  4     0        0\n",
       "26  5     0        0\n",
       "37  6     0        0\n",
       "... (#rows: 10962, #cols: 3)"
      ]
     },
     "metadata": {},
     "output_type": "display_data"
    },
    {
     "data": {
      "text/plain": [
       "Confusion Matrix and Statistics\n",
       "\n",
       "          Reference\n",
       "Prediction     0     1\n",
       "         0 10019   603\n",
       "         1     9   331\n",
       "                                          \n",
       "               Accuracy : 0.9442          \n",
       "                 95% CI : (0.9397, 0.9484)\n",
       "    No Information Rate : 0.9148          \n",
       "    P-Value [Acc > NIR] : < 2.2e-16       \n",
       "                                          \n",
       "                  Kappa : 0.4967          \n",
       "                                          \n",
       " Mcnemar's Test P-Value : < 2.2e-16       \n",
       "                                          \n",
       "            Sensitivity : 0.9991          \n",
       "            Specificity : 0.3544          \n",
       "         Pos Pred Value : 0.9432          \n",
       "         Neg Pred Value : 0.9735          \n",
       "             Prevalence : 0.9148          \n",
       "         Detection Rate : 0.9140          \n",
       "   Detection Prevalence : 0.9690          \n",
       "      Balanced Accuracy : 0.6767          \n",
       "                                          \n",
       "       'Positive' Class : 0               \n",
       "                                          "
      ]
     },
     "metadata": {},
     "output_type": "display_data"
    }
   ],
   "source": [
    "xgpred <- predict(xgmodel,testtask)\n",
    "xgpred\n",
    "library(caret)\n",
    "confusionMatrix(xgpred$data$response,xgpred$data$truth)"
   ]
  },
  {
   "cell_type": "markdown",
   "metadata": {},
   "source": [
    "#### Accuracy:0.9442\n"
   ]
  },
  {
   "cell_type": "markdown",
   "metadata": {},
   "source": [
    "### Predicting the results of test set"
   ]
  },
  {
   "cell_type": "code",
   "execution_count": 68,
   "metadata": {},
   "outputs": [],
   "source": [
    "library(xgboost)"
   ]
  },
  {
   "cell_type": "code",
   "execution_count": 69,
   "metadata": {},
   "outputs": [],
   "source": [
    "X_feature <- names(train)\n",
    "X_feature <- X_feature[-61]\n",
    "X_target <- train$is_promoted\n",
    "\n",
    "Xgtrain <- xgb.DMatrix(data=as.matrix(train[,X_feature]), label=X_target, missing=NA)\n",
    "Xgtest <- xgb.DMatrix(data =as.matrix(test[,X_feature]), missing=NA)"
   ]
  },
  {
   "cell_type": "code",
   "execution_count": 70,
   "metadata": {},
   "outputs": [],
   "source": [
    "params <- list()\n",
    "params$objective <- \"binary:logistic\"\n",
    "params$eta <- 0.1\n",
    "params$max_depth <- 8\n",
    "params$subsample <- 0.952\n",
    "params$colsample_bytree <- 0.931\n",
    "params$min_child_weight <- 9.77\n",
    "params$eval_metric <- \"error\"\n",
    "params$booster <- \"gbtree\""
   ]
  },
  {
   "cell_type": "code",
   "execution_count": 71,
   "metadata": {},
   "outputs": [],
   "source": [
    "modelXG <- xgb.train(params <- params, Xgtrain, nrounds <- 100)"
   ]
  },
  {
   "cell_type": "code",
   "execution_count": 72,
   "metadata": {},
   "outputs": [
    {
     "data": {
      "text/html": [
       "<ol class=list-inline>\n",
       "\t<li>0</li>\n",
       "\t<li>0</li>\n",
       "\t<li>0</li>\n",
       "\t<li>0</li>\n",
       "\t<li>0</li>\n",
       "\t<li>0</li>\n",
       "</ol>\n"
      ],
      "text/latex": [
       "\\begin{enumerate*}\n",
       "\\item 0\n",
       "\\item 0\n",
       "\\item 0\n",
       "\\item 0\n",
       "\\item 0\n",
       "\\item 0\n",
       "\\end{enumerate*}\n"
      ],
      "text/markdown": [
       "1. 0\n",
       "2. 0\n",
       "3. 0\n",
       "4. 0\n",
       "5. 0\n",
       "6. 0\n",
       "\n",
       "\n"
      ],
      "text/plain": [
       "[1] 0 0 0 0 0 0"
      ]
     },
     "metadata": {},
     "output_type": "display_data"
    }
   ],
   "source": [
    "predXG <- predict(modelXG, Xgtest)\n",
    "predXG = ifelse(predXG > 0.5, 1, 0)\n",
    "head(predXG)"
   ]
  },
  {
   "cell_type": "code",
   "execution_count": 73,
   "metadata": {},
   "outputs": [
    {
     "data": {
      "text/html": [
       "<table>\n",
       "<thead><tr><th scope=col>employee_id</th><th scope=col>is_promoted</th></tr></thead>\n",
       "<tbody>\n",
       "\t<tr><td> 8724</td><td>0    </td></tr>\n",
       "\t<tr><td>74430</td><td>0    </td></tr>\n",
       "\t<tr><td>72255</td><td>0    </td></tr>\n",
       "\t<tr><td>38562</td><td>0    </td></tr>\n",
       "\t<tr><td>64486</td><td>0    </td></tr>\n",
       "\t<tr><td>46232</td><td>0    </td></tr>\n",
       "\t<tr><td>54542</td><td>0    </td></tr>\n",
       "\t<tr><td>67269</td><td>0    </td></tr>\n",
       "\t<tr><td>66174</td><td>0    </td></tr>\n",
       "\t<tr><td>76303</td><td>0    </td></tr>\n",
       "\t<tr><td>60245</td><td>0    </td></tr>\n",
       "\t<tr><td>42639</td><td>0    </td></tr>\n",
       "\t<tr><td>30963</td><td>0    </td></tr>\n",
       "\t<tr><td>54055</td><td>0    </td></tr>\n",
       "\t<tr><td>42996</td><td>0    </td></tr>\n",
       "\t<tr><td>12737</td><td>0    </td></tr>\n",
       "\t<tr><td>27561</td><td>0    </td></tr>\n",
       "\t<tr><td>26622</td><td>0    </td></tr>\n",
       "\t<tr><td>31582</td><td>0    </td></tr>\n",
       "\t<tr><td>29793</td><td>0    </td></tr>\n",
       "</tbody>\n",
       "</table>\n"
      ],
      "text/latex": [
       "\\begin{tabular}{r|ll}\n",
       " employee\\_id & is\\_promoted\\\\\n",
       "\\hline\n",
       "\t  8724 & 0    \\\\\n",
       "\t 74430 & 0    \\\\\n",
       "\t 72255 & 0    \\\\\n",
       "\t 38562 & 0    \\\\\n",
       "\t 64486 & 0    \\\\\n",
       "\t 46232 & 0    \\\\\n",
       "\t 54542 & 0    \\\\\n",
       "\t 67269 & 0    \\\\\n",
       "\t 66174 & 0    \\\\\n",
       "\t 76303 & 0    \\\\\n",
       "\t 60245 & 0    \\\\\n",
       "\t 42639 & 0    \\\\\n",
       "\t 30963 & 0    \\\\\n",
       "\t 54055 & 0    \\\\\n",
       "\t 42996 & 0    \\\\\n",
       "\t 12737 & 0    \\\\\n",
       "\t 27561 & 0    \\\\\n",
       "\t 26622 & 0    \\\\\n",
       "\t 31582 & 0    \\\\\n",
       "\t 29793 & 0    \\\\\n",
       "\\end{tabular}\n"
      ],
      "text/markdown": [
       "\n",
       "| employee_id | is_promoted |\n",
       "|---|---|\n",
       "|  8724 | 0     |\n",
       "| 74430 | 0     |\n",
       "| 72255 | 0     |\n",
       "| 38562 | 0     |\n",
       "| 64486 | 0     |\n",
       "| 46232 | 0     |\n",
       "| 54542 | 0     |\n",
       "| 67269 | 0     |\n",
       "| 66174 | 0     |\n",
       "| 76303 | 0     |\n",
       "| 60245 | 0     |\n",
       "| 42639 | 0     |\n",
       "| 30963 | 0     |\n",
       "| 54055 | 0     |\n",
       "| 42996 | 0     |\n",
       "| 12737 | 0     |\n",
       "| 27561 | 0     |\n",
       "| 26622 | 0     |\n",
       "| 31582 | 0     |\n",
       "| 29793 | 0     |\n",
       "\n"
      ],
      "text/plain": [
       "   employee_id is_promoted\n",
       "1   8724       0          \n",
       "2  74430       0          \n",
       "3  72255       0          \n",
       "4  38562       0          \n",
       "5  64486       0          \n",
       "6  46232       0          \n",
       "7  54542       0          \n",
       "8  67269       0          \n",
       "9  66174       0          \n",
       "10 76303       0          \n",
       "11 60245       0          \n",
       "12 42639       0          \n",
       "13 30963       0          \n",
       "14 54055       0          \n",
       "15 42996       0          \n",
       "16 12737       0          \n",
       "17 27561       0          \n",
       "18 26622       0          \n",
       "19 31582       0          \n",
       "20 29793       0          "
      ]
     },
     "metadata": {},
     "output_type": "display_data"
    }
   ],
   "source": [
    "# Submission\n",
    "submission <- data.frame(employee_id = test$employee_id,is_promoted=predXG)\n",
    "head(submission,n=20)\n",
    "\n",
    "write.csv(submission, file= 'submit.csv', row.names =F)"
   ]
  }
 ],
 "metadata": {
  "kernelspec": {
   "display_name": "R",
   "language": "R",
   "name": "ir"
  },
  "language_info": {
   "codemirror_mode": "r",
   "file_extension": ".r",
   "mimetype": "text/x-r-source",
   "name": "R",
   "pygments_lexer": "r",
   "version": "3.6.1"
  }
 },
 "nbformat": 4,
 "nbformat_minor": 2
}
